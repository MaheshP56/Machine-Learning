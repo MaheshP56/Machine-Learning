{
 "cells": [
  {
   "cell_type": "code",
   "execution_count": 1,
   "metadata": {},
   "outputs": [],
   "source": [
    "# Supress Warnings\n",
    "\n",
    "import warnings\n",
    "warnings.filterwarnings('ignore')\n",
    "\n",
    "# Import the numpy, pandas, matplotlib, seaborn packages\n",
    "\n",
    "import numpy as np\n",
    "import pandas as pd\n",
    "import matplotlib.pyplot as plt\n",
    "import seaborn as sns\n",
    "import datetime as dt"
   ]
  },
  {
   "cell_type": "code",
   "execution_count": 2,
   "metadata": {},
   "outputs": [
    {
     "data": {
      "text/html": [
       "<div>\n",
       "<style scoped>\n",
       "    .dataframe tbody tr th:only-of-type {\n",
       "        vertical-align: middle;\n",
       "    }\n",
       "\n",
       "    .dataframe tbody tr th {\n",
       "        vertical-align: top;\n",
       "    }\n",
       "\n",
       "    .dataframe thead th {\n",
       "        text-align: right;\n",
       "    }\n",
       "</style>\n",
       "<table border=\"1\" class=\"dataframe\">\n",
       "  <thead>\n",
       "    <tr style=\"text-align: right;\">\n",
       "      <th></th>\n",
       "      <th>Request id</th>\n",
       "      <th>Pickup point</th>\n",
       "      <th>Driver id</th>\n",
       "      <th>Status</th>\n",
       "      <th>Request timestamp</th>\n",
       "      <th>Drop timestamp</th>\n",
       "    </tr>\n",
       "  </thead>\n",
       "  <tbody>\n",
       "    <tr>\n",
       "      <th>0</th>\n",
       "      <td>619</td>\n",
       "      <td>Airport</td>\n",
       "      <td>1.0</td>\n",
       "      <td>Trip Completed</td>\n",
       "      <td>11-07-2016 11:51</td>\n",
       "      <td>11-07-2016 13:00</td>\n",
       "    </tr>\n",
       "    <tr>\n",
       "      <th>1</th>\n",
       "      <td>867</td>\n",
       "      <td>Airport</td>\n",
       "      <td>1.0</td>\n",
       "      <td>Trip Completed</td>\n",
       "      <td>11-07-2016 17:57</td>\n",
       "      <td>11-07-2016 18:47</td>\n",
       "    </tr>\n",
       "    <tr>\n",
       "      <th>2</th>\n",
       "      <td>1807</td>\n",
       "      <td>City</td>\n",
       "      <td>1.0</td>\n",
       "      <td>Trip Completed</td>\n",
       "      <td>12-07-2016 09:17</td>\n",
       "      <td>12-07-2016 09:58</td>\n",
       "    </tr>\n",
       "    <tr>\n",
       "      <th>3</th>\n",
       "      <td>2532</td>\n",
       "      <td>Airport</td>\n",
       "      <td>1.0</td>\n",
       "      <td>Trip Completed</td>\n",
       "      <td>12-07-2016 21:08</td>\n",
       "      <td>12-07-2016 22:03</td>\n",
       "    </tr>\n",
       "    <tr>\n",
       "      <th>4</th>\n",
       "      <td>3112</td>\n",
       "      <td>City</td>\n",
       "      <td>1.0</td>\n",
       "      <td>Trip Completed</td>\n",
       "      <td>13-07-2016 08:33</td>\n",
       "      <td>13-07-2016 09:25</td>\n",
       "    </tr>\n",
       "  </tbody>\n",
       "</table>\n",
       "</div>"
      ],
      "text/plain": [
       "   Request id Pickup point  Driver id          Status Request timestamp  \\\n",
       "0         619      Airport        1.0  Trip Completed  11-07-2016 11:51   \n",
       "1         867      Airport        1.0  Trip Completed  11-07-2016 17:57   \n",
       "2        1807         City        1.0  Trip Completed  12-07-2016 09:17   \n",
       "3        2532      Airport        1.0  Trip Completed  12-07-2016 21:08   \n",
       "4        3112         City        1.0  Trip Completed  13-07-2016 08:33   \n",
       "\n",
       "     Drop timestamp  \n",
       "0  11-07-2016 13:00  \n",
       "1  11-07-2016 18:47  \n",
       "2  12-07-2016 09:58  \n",
       "3  12-07-2016 22:03  \n",
       "4  13-07-2016 09:25  "
      ]
     },
     "execution_count": 2,
     "metadata": {},
     "output_type": "execute_result"
    }
   ],
   "source": [
    "#Importing Data from CSV\n",
    "# Read the csv file using 'read_csv'\n",
    "import pandas as pd\n",
    "uberReq = pd.read_csv(r'D:\\Uber\\Uber+Request+Data.csv')\n",
    "uberReq.head()\n",
    "\n"
   ]
  },
  {
   "cell_type": "code",
   "execution_count": 3,
   "metadata": {},
   "outputs": [
    {
     "data": {
      "text/html": [
       "<div>\n",
       "<style scoped>\n",
       "    .dataframe tbody tr th:only-of-type {\n",
       "        vertical-align: middle;\n",
       "    }\n",
       "\n",
       "    .dataframe tbody tr th {\n",
       "        vertical-align: top;\n",
       "    }\n",
       "\n",
       "    .dataframe thead th {\n",
       "        text-align: right;\n",
       "    }\n",
       "</style>\n",
       "<table border=\"1\" class=\"dataframe\">\n",
       "  <thead>\n",
       "    <tr style=\"text-align: right;\">\n",
       "      <th></th>\n",
       "      <th>Request id</th>\n",
       "      <th>Pickup point</th>\n",
       "      <th>Driver id</th>\n",
       "      <th>Status</th>\n",
       "      <th>Request timestamp</th>\n",
       "      <th>Drop timestamp</th>\n",
       "    </tr>\n",
       "  </thead>\n",
       "  <tbody>\n",
       "    <tr>\n",
       "      <th>0</th>\n",
       "      <td>619</td>\n",
       "      <td>Airport</td>\n",
       "      <td>1.0</td>\n",
       "      <td>Trip Completed</td>\n",
       "      <td>2016-11-07 11:51:00</td>\n",
       "      <td>2016-11-07 13:00:00</td>\n",
       "    </tr>\n",
       "    <tr>\n",
       "      <th>1</th>\n",
       "      <td>867</td>\n",
       "      <td>Airport</td>\n",
       "      <td>1.0</td>\n",
       "      <td>Trip Completed</td>\n",
       "      <td>2016-11-07 17:57:00</td>\n",
       "      <td>2016-11-07 18:47:00</td>\n",
       "    </tr>\n",
       "    <tr>\n",
       "      <th>2</th>\n",
       "      <td>1807</td>\n",
       "      <td>City</td>\n",
       "      <td>1.0</td>\n",
       "      <td>Trip Completed</td>\n",
       "      <td>2016-12-07 09:17:00</td>\n",
       "      <td>2016-12-07 09:58:00</td>\n",
       "    </tr>\n",
       "    <tr>\n",
       "      <th>3</th>\n",
       "      <td>2532</td>\n",
       "      <td>Airport</td>\n",
       "      <td>1.0</td>\n",
       "      <td>Trip Completed</td>\n",
       "      <td>2016-12-07 21:08:00</td>\n",
       "      <td>2016-12-07 22:03:00</td>\n",
       "    </tr>\n",
       "    <tr>\n",
       "      <th>4</th>\n",
       "      <td>3112</td>\n",
       "      <td>City</td>\n",
       "      <td>1.0</td>\n",
       "      <td>Trip Completed</td>\n",
       "      <td>2016-07-13 08:33:00</td>\n",
       "      <td>2016-07-13 09:25:00</td>\n",
       "    </tr>\n",
       "  </tbody>\n",
       "</table>\n",
       "</div>"
      ],
      "text/plain": [
       "   Request id Pickup point  Driver id          Status   Request timestamp  \\\n",
       "0         619      Airport        1.0  Trip Completed 2016-11-07 11:51:00   \n",
       "1         867      Airport        1.0  Trip Completed 2016-11-07 17:57:00   \n",
       "2        1807         City        1.0  Trip Completed 2016-12-07 09:17:00   \n",
       "3        2532      Airport        1.0  Trip Completed 2016-12-07 21:08:00   \n",
       "4        3112         City        1.0  Trip Completed 2016-07-13 08:33:00   \n",
       "\n",
       "       Drop timestamp  \n",
       "0 2016-11-07 13:00:00  \n",
       "1 2016-11-07 18:47:00  \n",
       "2 2016-12-07 09:58:00  \n",
       "3 2016-12-07 22:03:00  \n",
       "4 2016-07-13 09:25:00  "
      ]
     },
     "execution_count": 3,
     "metadata": {},
     "output_type": "execute_result"
    }
   ],
   "source": [
    "#Correcting the data types\n",
    "uberReq['Request timestamp'] = pd.to_datetime(uberReq['Request timestamp'])\n",
    "uberReq['Drop timestamp'] = pd.to_datetime(uberReq['Drop timestamp'])\n",
    "uberReq.head()"
   ]
  },
  {
   "cell_type": "code",
   "execution_count": 7,
   "metadata": {},
   "outputs": [
    {
     "data": {
      "text/html": [
       "<div>\n",
       "<style scoped>\n",
       "    .dataframe tbody tr th:only-of-type {\n",
       "        vertical-align: middle;\n",
       "    }\n",
       "\n",
       "    .dataframe tbody tr th {\n",
       "        vertical-align: top;\n",
       "    }\n",
       "\n",
       "    .dataframe thead th {\n",
       "        text-align: right;\n",
       "    }\n",
       "</style>\n",
       "<table border=\"1\" class=\"dataframe\">\n",
       "  <thead>\n",
       "    <tr style=\"text-align: right;\">\n",
       "      <th></th>\n",
       "      <th>Request id</th>\n",
       "      <th>Pickup point</th>\n",
       "      <th>Status</th>\n",
       "      <th>Request timestamp</th>\n",
       "      <th>Drop timestamp</th>\n",
       "    </tr>\n",
       "  </thead>\n",
       "  <tbody>\n",
       "    <tr>\n",
       "      <th>0</th>\n",
       "      <td>619</td>\n",
       "      <td>Airport</td>\n",
       "      <td>Trip Completed</td>\n",
       "      <td>2016-11-07 11:51:00</td>\n",
       "      <td>2016-11-07 13:00:00</td>\n",
       "    </tr>\n",
       "    <tr>\n",
       "      <th>1</th>\n",
       "      <td>867</td>\n",
       "      <td>Airport</td>\n",
       "      <td>Trip Completed</td>\n",
       "      <td>2016-11-07 17:57:00</td>\n",
       "      <td>2016-11-07 18:47:00</td>\n",
       "    </tr>\n",
       "    <tr>\n",
       "      <th>2</th>\n",
       "      <td>1807</td>\n",
       "      <td>City</td>\n",
       "      <td>Trip Completed</td>\n",
       "      <td>2016-12-07 09:17:00</td>\n",
       "      <td>2016-12-07 09:58:00</td>\n",
       "    </tr>\n",
       "    <tr>\n",
       "      <th>3</th>\n",
       "      <td>2532</td>\n",
       "      <td>Airport</td>\n",
       "      <td>Trip Completed</td>\n",
       "      <td>2016-12-07 21:08:00</td>\n",
       "      <td>2016-12-07 22:03:00</td>\n",
       "    </tr>\n",
       "    <tr>\n",
       "      <th>4</th>\n",
       "      <td>3112</td>\n",
       "      <td>City</td>\n",
       "      <td>Trip Completed</td>\n",
       "      <td>2016-07-13 08:33:00</td>\n",
       "      <td>2016-07-13 09:25:00</td>\n",
       "    </tr>\n",
       "  </tbody>\n",
       "</table>\n",
       "</div>"
      ],
      "text/plain": [
       "   Request id Pickup point          Status   Request timestamp  \\\n",
       "0         619      Airport  Trip Completed 2016-11-07 11:51:00   \n",
       "1         867      Airport  Trip Completed 2016-11-07 17:57:00   \n",
       "2        1807         City  Trip Completed 2016-12-07 09:17:00   \n",
       "3        2532      Airport  Trip Completed 2016-12-07 21:08:00   \n",
       "4        3112         City  Trip Completed 2016-07-13 08:33:00   \n",
       "\n",
       "       Drop timestamp  \n",
       "0 2016-11-07 13:00:00  \n",
       "1 2016-11-07 18:47:00  \n",
       "2 2016-12-07 09:58:00  \n",
       "3 2016-12-07 22:03:00  \n",
       "4 2016-07-13 09:25:00  "
      ]
     },
     "execution_count": 7,
     "metadata": {},
     "output_type": "execute_result"
    }
   ],
   "source": [
    "# Removing unnecessary columns\n",
    "uberReq = uberReq.drop(['Driver id'], axis = 1)\n",
    "uberReq.head()"
   ]
  },
  {
   "cell_type": "code",
   "execution_count": 61,
   "metadata": {},
   "outputs": [
    {
     "data": {
      "text/html": [
       "<div>\n",
       "<style scoped>\n",
       "    .dataframe tbody tr th:only-of-type {\n",
       "        vertical-align: middle;\n",
       "    }\n",
       "\n",
       "    .dataframe tbody tr th {\n",
       "        vertical-align: top;\n",
       "    }\n",
       "\n",
       "    .dataframe thead th {\n",
       "        text-align: right;\n",
       "    }\n",
       "</style>\n",
       "<table border=\"1\" class=\"dataframe\">\n",
       "  <thead>\n",
       "    <tr style=\"text-align: right;\">\n",
       "      <th></th>\n",
       "      <th>Request id</th>\n",
       "      <th>Pickup point</th>\n",
       "      <th>Status</th>\n",
       "      <th>Request timestamp</th>\n",
       "      <th>Drop timestamp</th>\n",
       "      <th>Request Time Slot</th>\n",
       "      <th>Gap</th>\n",
       "    </tr>\n",
       "  </thead>\n",
       "  <tbody>\n",
       "    <tr>\n",
       "      <th>6740</th>\n",
       "      <td>6745</td>\n",
       "      <td>City</td>\n",
       "      <td>No Cars Available</td>\n",
       "      <td>2016-07-15 23:49:00</td>\n",
       "      <td>NaT</td>\n",
       "      <td>Night</td>\n",
       "      <td>Trip Not Completed</td>\n",
       "    </tr>\n",
       "    <tr>\n",
       "      <th>6741</th>\n",
       "      <td>6752</td>\n",
       "      <td>Airport</td>\n",
       "      <td>No Cars Available</td>\n",
       "      <td>2016-07-15 23:50:00</td>\n",
       "      <td>NaT</td>\n",
       "      <td>Night</td>\n",
       "      <td>Trip Not Completed</td>\n",
       "    </tr>\n",
       "    <tr>\n",
       "      <th>6742</th>\n",
       "      <td>6751</td>\n",
       "      <td>City</td>\n",
       "      <td>No Cars Available</td>\n",
       "      <td>2016-07-15 23:52:00</td>\n",
       "      <td>NaT</td>\n",
       "      <td>Night</td>\n",
       "      <td>Trip Not Completed</td>\n",
       "    </tr>\n",
       "    <tr>\n",
       "      <th>6743</th>\n",
       "      <td>6754</td>\n",
       "      <td>City</td>\n",
       "      <td>No Cars Available</td>\n",
       "      <td>2016-07-15 23:54:00</td>\n",
       "      <td>NaT</td>\n",
       "      <td>Night</td>\n",
       "      <td>Trip Not Completed</td>\n",
       "    </tr>\n",
       "    <tr>\n",
       "      <th>6744</th>\n",
       "      <td>6753</td>\n",
       "      <td>Airport</td>\n",
       "      <td>No Cars Available</td>\n",
       "      <td>2016-07-15 23:55:00</td>\n",
       "      <td>NaT</td>\n",
       "      <td>Night</td>\n",
       "      <td>Trip Not Completed</td>\n",
       "    </tr>\n",
       "  </tbody>\n",
       "</table>\n",
       "</div>"
      ],
      "text/plain": [
       "      Request id Pickup point             Status   Request timestamp  \\\n",
       "6740        6745         City  No Cars Available 2016-07-15 23:49:00   \n",
       "6741        6752      Airport  No Cars Available 2016-07-15 23:50:00   \n",
       "6742        6751         City  No Cars Available 2016-07-15 23:52:00   \n",
       "6743        6754         City  No Cars Available 2016-07-15 23:54:00   \n",
       "6744        6753      Airport  No Cars Available 2016-07-15 23:55:00   \n",
       "\n",
       "     Drop timestamp Request Time Slot                 Gap  \n",
       "6740            NaT             Night  Trip Not Completed  \n",
       "6741            NaT             Night  Trip Not Completed  \n",
       "6742            NaT             Night  Trip Not Completed  \n",
       "6743            NaT             Night  Trip Not Completed  \n",
       "6744            NaT             Night  Trip Not Completed  "
      ]
     },
     "execution_count": 61,
     "metadata": {},
     "output_type": "execute_result"
    }
   ],
   "source": [
    "uberReq.tail()"
   ]
  },
  {
   "cell_type": "markdown",
   "metadata": {},
   "source": [
    "Data Cleaning"
   ]
  },
  {
   "cell_type": "markdown",
   "metadata": {},
   "source": [
    "\n",
    "\n",
    "    ### Subtask 1.2: Understand the Dataset\n",
    "        How many unique pickup points are present in uberReq?\n",
    "        How many observations are present in uberReq?\n",
    "        Number of null values?\n",
    "        Inspecting the null values\n",
    "\n"
   ]
  },
  {
   "cell_type": "code",
   "execution_count": 11,
   "metadata": {},
   "outputs": [
    {
     "name": "stdout",
     "output_type": "stream",
     "text": [
      "['Airport' 'City']\n"
     ]
    }
   ],
   "source": [
    "#How many unique pickup points are present in uberReq?\n",
    "print(uberReq['Pickup point'].unique())"
   ]
  },
  {
   "cell_type": "code",
   "execution_count": 13,
   "metadata": {},
   "outputs": [
    {
     "data": {
      "text/plain": [
       "(6745, 5)"
      ]
     },
     "execution_count": 13,
     "metadata": {},
     "output_type": "execute_result"
    }
   ],
   "source": [
    "#How many observations are present in uberReq?\n",
    "uberReq.shape"
   ]
  },
  {
   "cell_type": "code",
   "execution_count": 15,
   "metadata": {},
   "outputs": [
    {
     "name": "stdout",
     "output_type": "stream",
     "text": [
      "<class 'pandas.core.frame.DataFrame'>\n",
      "RangeIndex: 6745 entries, 0 to 6744\n",
      "Data columns (total 5 columns):\n",
      " #   Column             Non-Null Count  Dtype         \n",
      "---  ------             --------------  -----         \n",
      " 0   Request id         6745 non-null   int64         \n",
      " 1   Pickup point       6745 non-null   object        \n",
      " 2   Status             6745 non-null   object        \n",
      " 3   Request timestamp  6745 non-null   datetime64[ns]\n",
      " 4   Drop timestamp     2831 non-null   datetime64[ns]\n",
      "dtypes: datetime64[ns](2), int64(1), object(2)\n",
      "memory usage: 210.8+ KB\n"
     ]
    }
   ],
   "source": [
    "uberReq.info()"
   ]
  },
  {
   "cell_type": "code",
   "execution_count": 17,
   "metadata": {},
   "outputs": [
    {
     "data": {
      "text/plain": [
       "Request id              0\n",
       "Pickup point            0\n",
       "Status                  0\n",
       "Request timestamp       0\n",
       "Drop timestamp       3914\n",
       "dtype: int64"
      ]
     },
     "execution_count": 17,
     "metadata": {},
     "output_type": "execute_result"
    }
   ],
   "source": [
    "#Inspecting the Null values , column-wise\n",
    "uberReq.isnull().sum(axis=0)"
   ]
  },
  {
   "cell_type": "code",
   "execution_count": 19,
   "metadata": {},
   "outputs": [
    {
     "data": {
      "text/plain": [
       "Status\n",
       "Cancelled            1264\n",
       "No Cars Available    2650\n",
       "dtype: int64"
      ]
     },
     "execution_count": 19,
     "metadata": {},
     "output_type": "execute_result"
    }
   ],
   "source": [
    "uberReq[(uberReq['Drop timestamp'].isnull())].groupby('Status').size()"
   ]
  },
  {
   "cell_type": "markdown",
   "metadata": {},
   "source": [
    "\n",
    "NOTE:\n",
    "\n",
    "The cell above goes on to show that the Drop timestamp rows are empty when the Status is No Cars Available or Cancelled. Since the trips did not happen in those cases, the Drop timestamp can not be available, hence the null values here are valid.\n"
   ]
  },
  {
   "cell_type": "code",
   "execution_count": 21,
   "metadata": {},
   "outputs": [
    {
     "name": "stdout",
     "output_type": "stream",
     "text": [
      "6745\n",
      "2\n",
      "3\n"
     ]
    }
   ],
   "source": [
    "print(len(uberReq['Request id'].unique()))\n",
    "print(len(uberReq['Pickup point'].unique()))\n",
    "print(len(uberReq['Status'].unique()))"
   ]
  },
  {
   "cell_type": "code",
   "execution_count": 23,
   "metadata": {},
   "outputs": [
    {
     "data": {
      "text/plain": [
       "0"
      ]
     },
     "execution_count": 23,
     "metadata": {},
     "output_type": "execute_result"
    }
   ],
   "source": [
    "#Checking if there are any duplicate values\n",
    "len(uberReq[uberReq.duplicated()].index)"
   ]
  },
  {
   "cell_type": "markdown",
   "metadata": {},
   "source": [
    "Task 2: Univariate Analysis"
   ]
  },
  {
   "cell_type": "code",
   "execution_count": 28,
   "metadata": {},
   "outputs": [
    {
     "data": {
      "text/plain": [
       "<matplotlib.axes._subplots.AxesSubplot at 0x14ea970>"
      ]
     },
     "execution_count": 28,
     "metadata": {},
     "output_type": "execute_result"
    },
    {
     "data": {
      "image/png": "[encoded data removed]",
      "text/plain": [
       "<Figure size 432x288 with 1 Axes>"
      ]
     },
     "metadata": {
      "needs_background": "light"
     },
     "output_type": "display_data"
    }
   ],
   "source": [
    "#Univariate analysis on Status column \n",
    "status = pd.crosstab(index = uberReq[\"Status\"], columns=\"count\")     \n",
    "status.plot.bar()"
   ]
  },
  {
   "cell_type": "markdown",
   "metadata": {},
   "source": [
    "Univariate Analysis conclusion of Status column:\n",
    "\n",
    "No cars available is more than the number of trips cancelled"
   ]
  },
  {
   "cell_type": "code",
   "execution_count": 30,
   "metadata": {},
   "outputs": [
    {
     "data": {
      "text/plain": [
       "<matplotlib.axes._subplots.AxesSubplot at 0x14aa388>"
      ]
     },
     "execution_count": 30,
     "metadata": {},
     "output_type": "execute_result"
    },
    {
     "data": {
      "image/png": "[encoded data removed]",
      "text/plain": [
       "<Figure size 432x288 with 1 Axes>"
      ]
     },
     "metadata": {
      "needs_background": "light"
     },
     "output_type": "display_data"
    }
   ],
   "source": [
    "#Univariate analysis on Pickup Point column \n",
    "pick_point = pd.crosstab(index = uberReq[\"Pickup point\"], columns=\"count\")     \n",
    "pick_point.plot.bar()"
   ]
  },
  {
   "cell_type": "markdown",
   "metadata": {},
   "source": [
    "\n",
    "Univariate Analysis conclusion of Pickup point column:\n",
    "\n",
    "The pickup points Airport and City are almost equal times present in the dataset.\n"
   ]
  },
  {
   "cell_type": "markdown",
   "metadata": {},
   "source": [
    "Task 3: Bivariate Analysis"
   ]
  },
  {
   "cell_type": "code",
   "execution_count": 32,
   "metadata": {},
   "outputs": [
    {
     "data": {
      "text/plain": [
       "Status             Pickup point\n",
       "Cancelled          Airport          198\n",
       "                   City            1066\n",
       "No Cars Available  Airport         1713\n",
       "                   City             937\n",
       "Trip Completed     Airport         1327\n",
       "                   City            1504\n",
       "dtype: int64"
      ]
     },
     "execution_count": 32,
     "metadata": {},
     "output_type": "execute_result"
    }
   ],
   "source": [
    "#grouping by Status and Pickup point.\n",
    "uberReq.groupby(['Status', 'Pickup point']).size()"
   ]
  },
  {
   "cell_type": "code",
   "execution_count": 34,
   "metadata": {},
   "outputs": [
    {
     "data": {
      "text/plain": [
       "<matplotlib.axes._subplots.AxesSubplot at 0x19735b0>"
      ]
     },
     "execution_count": 34,
     "metadata": {},
     "output_type": "execute_result"
    },
    {
     "data": {
      "image/png": "[encoded data removed]",
      "text/plain": [
       "<Figure size 432x288 with 1 Axes>"
      ]
     },
     "metadata": {
      "needs_background": "light"
     },
     "output_type": "display_data"
    }
   ],
   "source": [
    "# Visualizing the count of Status and Pickup point bivariate analysis\n",
    "sns.countplot(x=uberReq['Pickup point'],hue =uberReq['Status'] ,data = uberReq)"
   ]
  },
  {
   "cell_type": "markdown",
   "metadata": {},
   "source": [
    "\n",
    "Bivariate Analysis conclusion of Status and Pickup point columns:\n",
    "\n",
    "    There are more No cars available from Airport to City.\n",
    "    There are more cars Cancelled from City to Airport.\n",
    "\n"
   ]
  },
  {
   "cell_type": "markdown",
   "metadata": {},
   "source": [
    "Task 4: Deriving new metrics"
   ]
  },
  {
   "cell_type": "code",
   "execution_count": 36,
   "metadata": {},
   "outputs": [],
   "source": [
    "#Request and Drop hours\n",
    "uberReq['Request Hour'] = uberReq['Request timestamp'].dt.hour"
   ]
  },
  {
   "cell_type": "code",
   "execution_count": 38,
   "metadata": {},
   "outputs": [],
   "source": [
    "#Time Slots\n",
    "uberReq['Request Time Slot'] = 'Early Morning'\n",
    "uberReq.loc[uberReq['Request Hour'].between(5,8, inclusive=True),'Request Time Slot'] = 'Morning'\n",
    "uberReq.loc[uberReq['Request Hour'].between(9,12, inclusive=True),'Request Time Slot'] = 'Late Morning'\n",
    "uberReq.loc[uberReq['Request Hour'].between(13,16, inclusive=True),'Request Time Slot'] = 'Noon'\n",
    "uberReq.loc[uberReq['Request Hour'].between(17,21, inclusive=True),'Request Time Slot'] = 'Evening'\n",
    "uberReq.loc[uberReq['Request Hour'].between(21,24, inclusive=True),'Request Time Slot'] = 'Night'"
   ]
  },
  {
   "cell_type": "code",
   "execution_count": 40,
   "metadata": {},
   "outputs": [],
   "source": [
    "#As Demand can include trips completed, cancelled or no cars available, we will create a column with 1 as a value\n",
    "uberReq['Demand'] = 1"
   ]
  },
  {
   "cell_type": "code",
   "execution_count": 42,
   "metadata": {},
   "outputs": [],
   "source": [
    "#As Supply can only be the trips completed, rest all are excluded, so we will create a column with 1 as a supply value trips completed and 0 otherwise.\n",
    "uberReq['Supply'] = 0\n",
    "uberReq.loc[(uberReq['Status'] == 'Trip Completed'),'Supply'] = 1"
   ]
  },
  {
   "cell_type": "code",
   "execution_count": 44,
   "metadata": {},
   "outputs": [],
   "source": [
    "#Demand Supply Gap can be defined as a difference between Demand and Supply\n",
    "uberReq['Gap'] = uberReq['Demand'] - uberReq['Supply']\n",
    "uberReq.loc[uberReq['Gap']==0,'Gap'] = 'Trip Completed'\n",
    "uberReq.loc[uberReq['Gap']==1,'Gap'] = 'Trip Not Completed'"
   ]
  },
  {
   "cell_type": "code",
   "execution_count": 47,
   "metadata": {},
   "outputs": [
    {
     "data": {
      "text/html": [
       "<div>\n",
       "<style scoped>\n",
       "    .dataframe tbody tr th:only-of-type {\n",
       "        vertical-align: middle;\n",
       "    }\n",
       "\n",
       "    .dataframe tbody tr th {\n",
       "        vertical-align: top;\n",
       "    }\n",
       "\n",
       "    .dataframe thead th {\n",
       "        text-align: right;\n",
       "    }\n",
       "</style>\n",
       "<table border=\"1\" class=\"dataframe\">\n",
       "  <thead>\n",
       "    <tr style=\"text-align: right;\">\n",
       "      <th></th>\n",
       "      <th>Request id</th>\n",
       "      <th>Pickup point</th>\n",
       "      <th>Status</th>\n",
       "      <th>Request timestamp</th>\n",
       "      <th>Drop timestamp</th>\n",
       "      <th>Request Time Slot</th>\n",
       "      <th>Gap</th>\n",
       "    </tr>\n",
       "  </thead>\n",
       "  <tbody>\n",
       "    <tr>\n",
       "      <th>0</th>\n",
       "      <td>619</td>\n",
       "      <td>Airport</td>\n",
       "      <td>Trip Completed</td>\n",
       "      <td>2016-11-07 11:51:00</td>\n",
       "      <td>2016-11-07 13:00:00</td>\n",
       "      <td>Late Morning</td>\n",
       "      <td>Trip Completed</td>\n",
       "    </tr>\n",
       "    <tr>\n",
       "      <th>1</th>\n",
       "      <td>867</td>\n",
       "      <td>Airport</td>\n",
       "      <td>Trip Completed</td>\n",
       "      <td>2016-11-07 17:57:00</td>\n",
       "      <td>2016-11-07 18:47:00</td>\n",
       "      <td>Evening</td>\n",
       "      <td>Trip Completed</td>\n",
       "    </tr>\n",
       "    <tr>\n",
       "      <th>2</th>\n",
       "      <td>1807</td>\n",
       "      <td>City</td>\n",
       "      <td>Trip Completed</td>\n",
       "      <td>2016-12-07 09:17:00</td>\n",
       "      <td>2016-12-07 09:58:00</td>\n",
       "      <td>Late Morning</td>\n",
       "      <td>Trip Completed</td>\n",
       "    </tr>\n",
       "    <tr>\n",
       "      <th>3</th>\n",
       "      <td>2532</td>\n",
       "      <td>Airport</td>\n",
       "      <td>Trip Completed</td>\n",
       "      <td>2016-12-07 21:08:00</td>\n",
       "      <td>2016-12-07 22:03:00</td>\n",
       "      <td>Night</td>\n",
       "      <td>Trip Completed</td>\n",
       "    </tr>\n",
       "    <tr>\n",
       "      <th>4</th>\n",
       "      <td>3112</td>\n",
       "      <td>City</td>\n",
       "      <td>Trip Completed</td>\n",
       "      <td>2016-07-13 08:33:00</td>\n",
       "      <td>2016-07-13 09:25:00</td>\n",
       "      <td>Morning</td>\n",
       "      <td>Trip Completed</td>\n",
       "    </tr>\n",
       "  </tbody>\n",
       "</table>\n",
       "</div>"
      ],
      "text/plain": [
       "   Request id Pickup point          Status   Request timestamp  \\\n",
       "0         619      Airport  Trip Completed 2016-11-07 11:51:00   \n",
       "1         867      Airport  Trip Completed 2016-11-07 17:57:00   \n",
       "2        1807         City  Trip Completed 2016-12-07 09:17:00   \n",
       "3        2532      Airport  Trip Completed 2016-12-07 21:08:00   \n",
       "4        3112         City  Trip Completed 2016-07-13 08:33:00   \n",
       "\n",
       "       Drop timestamp Request Time Slot             Gap  \n",
       "0 2016-11-07 13:00:00      Late Morning  Trip Completed  \n",
       "1 2016-11-07 18:47:00           Evening  Trip Completed  \n",
       "2 2016-12-07 09:58:00      Late Morning  Trip Completed  \n",
       "3 2016-12-07 22:03:00             Night  Trip Completed  \n",
       "4 2016-07-13 09:25:00           Morning  Trip Completed  "
      ]
     },
     "execution_count": 47,
     "metadata": {},
     "output_type": "execute_result"
    }
   ],
   "source": [
    "uberReq.head()"
   ]
  },
  {
   "cell_type": "markdown",
   "metadata": {},
   "source": [
    "Task 5: Graphical Analysis"
   ]
  },
  {
   "cell_type": "code",
   "execution_count": 49,
   "metadata": {},
   "outputs": [
    {
     "data": {
      "text/plain": [
       "<matplotlib.axes._subplots.AxesSubplot at 0x5360838>"
      ]
     },
     "execution_count": 49,
     "metadata": {},
     "output_type": "execute_result"
    },
    {
     "data": {
      "image/png": "[encoded data removed]",
      "text/plain": [
       "<Figure size 432x288 with 1 Axes>"
      ]
     },
     "metadata": {
      "needs_background": "light"
     },
     "output_type": "display_data"
    }
   ],
   "source": [
    "# Plot to find the count of the three requests, according to the defined time slots\n",
    "sns.countplot(x=uberReq['Request Time Slot'],hue =uberReq['Status'] ,data = uberReq)"
   ]
  },
  {
   "cell_type": "markdown",
   "metadata": {},
   "source": [
    "\n",
    "Conclusions from above plot :\n",
    "\n",
    "    Most No Cars Available are in the Evening.\n",
    "    Most Cancelled trips are in the Morning.\n",
    "\n"
   ]
  },
  {
   "cell_type": "code",
   "execution_count": 51,
   "metadata": {},
   "outputs": [
    {
     "data": {
      "text/plain": [
       "<matplotlib.axes._subplots.AxesSubplot at 0x115b0ca0>"
      ]
     },
     "execution_count": 51,
     "metadata": {},
     "output_type": "execute_result"
    },
    {
     "data": {
      "image/png": "[encoded data removed]",
      "text/plain": [
       "<Figure size 432x288 with 1 Axes>"
      ]
     },
     "metadata": {
      "needs_background": "light"
     },
     "output_type": "display_data"
    }
   ],
   "source": [
    "# Plot to find the count of the status, according to both pickup point and the time slot\n",
    "pickup_df = pd.DataFrame(uberReq.groupby(['Pickup point','Request Time Slot', 'Status'])['Request id'].count().unstack(fill_value=0))\n",
    "pickup_df.plot.bar()"
   ]
  },
  {
   "cell_type": "markdown",
   "metadata": {},
   "source": [
    "Conclusions from above plot :\n",
    "\n",
    "    Most No Cars Available are in the Evening from Airport to City.\n",
    "    Most Cancelled trips are in the Morning from City to Airport"
   ]
  },
  {
   "cell_type": "code",
   "execution_count": 53,
   "metadata": {},
   "outputs": [
    {
     "data": {
      "text/plain": [
       "<matplotlib.axes._subplots.AxesSubplot at 0x116c9af0>"
      ]
     },
     "execution_count": 53,
     "metadata": {},
     "output_type": "execute_result"
    },
    {
     "data": {
      "image/png": "[encoded data removed]",
      "text/plain": [
       "<Figure size 432x288 with 1 Axes>"
      ]
     },
     "metadata": {
      "needs_background": "light"
     },
     "output_type": "display_data"
    }
   ],
   "source": [
    "#Plot to count the number of requests that was completed and which was not\n",
    "sns.countplot(x=uberReq['Gap'], data = uberReq)"
   ]
  },
  {
   "cell_type": "markdown",
   "metadata": {},
   "source": [
    "\n",
    "Conclusions from above plot :\n",
    "\n",
    "More Trip not completed than Trip Completed.\n"
   ]
  },
  {
   "cell_type": "code",
   "execution_count": 56,
   "metadata": {},
   "outputs": [
    {
     "data": {
      "text/plain": [
       "<matplotlib.axes._subplots.AxesSubplot at 0x117e5478>"
      ]
     },
     "execution_count": 56,
     "metadata": {},
     "output_type": "execute_result"
    },
    {
     "data": {
      "image/png": "[encoded data removed]",
      "text/plain": [
       "<Figure size 432x288 with 1 Axes>"
      ]
     },
     "metadata": {
      "needs_background": "light"
     },
     "output_type": "display_data"
    }
   ],
   "source": [
    "##Plot to count the number of requests that was completed and which was not, against the time slot\n",
    "gap_timeslot_df = pd.DataFrame(uberReq.groupby(['Request Time Slot','Gap'])['Request id'].count().unstack(fill_value=0))\n",
    "gap_timeslot_df.plot.bar()"
   ]
  },
  {
   "cell_type": "code",
   "execution_count": 58,
   "metadata": {},
   "outputs": [
    {
     "data": {
      "text/plain": [
       "<matplotlib.axes._subplots.AxesSubplot at 0x1186dd90>"
      ]
     },
     "execution_count": 58,
     "metadata": {},
     "output_type": "execute_result"
    },
    {
     "data": {
      "image/png": "[encoded data removed]",
      "text/plain": [
       "<Figure size 432x288 with 1 Axes>"
      ]
     },
     "metadata": {
      "needs_background": "light"
     },
     "output_type": "display_data"
    }
   ],
   "source": [
    "#Plot to count the number of requests that was completed and which was not, against pickup point\n",
    "gap_pickup_df = pd.DataFrame(uberReq.groupby(['Pickup point','Gap'])['Request id'].count().unstack(fill_value=0))\n",
    "gap_pickup_df.plot.bar()"
   ]
  },
  {
   "cell_type": "code",
   "execution_count": 60,
   "metadata": {},
   "outputs": [
    {
     "data": {
      "text/plain": [
       "<matplotlib.axes._subplots.AxesSubplot at 0x128e13a0>"
      ]
     },
     "execution_count": 60,
     "metadata": {},
     "output_type": "execute_result"
    },
    {
     "data": {
      "image/png": "[encoded data removed]",
      "text/plain": [
       "<Figure size 432x288 with 1 Axes>"
      ]
     },
     "metadata": {
      "needs_background": "light"
     },
     "output_type": "display_data"
    }
   ],
   "source": [
    "#Plot to count the number of requests that was completed and which was not, for the final analysis\n",
    "gap_main_df = pd.DataFrame(uberReq.groupby(['Request Time Slot','Pickup point','Gap'])['Request id'].count().unstack(fill_value=0))\n",
    "gap_main_df.plot.bar()"
   ]
  },
  {
   "cell_type": "markdown",
   "metadata": {},
   "source": [
    "\n",
    "Hypothesis :\n",
    "Pickup Point - City :\n",
    "\n",
    "As per the analysis, the morning time slot is most problematic where the requests are being cancelled. Most probably the requests are being cancelled by the drivers due to the morning rush as it being the office hours and seeing the destination as airport which would be too far, the driver would think to earn more for the shorter trips within the city.\n",
    "Pickup Point - Airport :\n",
    "\n",
    "Upon analysis, the evening time slot seems to be most problematic for pickup points as airport where the requests being No Cars Available. The reason seems to be that not enough cars are available to service the requests as cars might not be available at the airport due to the cars serving inside the city.\n",
    "Conclusions :\n",
    "\n",
    "    Based on the data analysis performed, following recommendation can be used by Uber to bridge the gap between supply and demand: -\n",
    "        For bridging the demand supply gap from airport to city, making a permanent stand in the airport itself where the cabs will be available at all times and the incomplete requests can come down significantly.\n",
    "        Uber can provide some incentives to the driver who complete the trip from city to airport in the morning part. This might result the driver to not cancel the request from city to airport trips.\n",
    "        Last but sure solution to bring down the gap is to increase the numbers of cab in its fleet.\n",
    "\n"
   ]
  }
 ],
 "metadata": {
  "kernelspec": {
   "display_name": "Python 3",
   "language": "python",
   "name": "python3"
  },
  "language_info": {
   "codemirror_mode": {
    "name": "ipython",
    "version": 3
   },
   "file_extension": ".py",
   "mimetype": "text/x-python",
   "name": "python",
   "nbconvert_exporter": "python",
   "pygments_lexer": "ipython3",
   "version": "3.8.3"
  }
 },
 "nbformat": 4,
 "nbformat_minor": 4
}

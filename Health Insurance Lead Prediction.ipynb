{
 "cells": [
  {
   "cell_type": "code",
   "execution_count": 1,
   "metadata": {},
   "outputs": [],
   "source": [
    "#import libraries\n",
    "import pandas as pd\n",
    "import numpy as np\n",
    "import matplotlib.pyplot as plt\n",
    "import seaborn as sns\n",
    "%matplotlib inline\n"
   ]
  },
  {
   "cell_type": "code",
   "execution_count": 2,
   "metadata": {},
   "outputs": [
    {
     "data": {
      "text/html": [
       "<div>\n",
       "<style scoped>\n",
       "    .dataframe tbody tr th:only-of-type {\n",
       "        vertical-align: middle;\n",
       "    }\n",
       "\n",
       "    .dataframe tbody tr th {\n",
       "        vertical-align: top;\n",
       "    }\n",
       "\n",
       "    .dataframe thead th {\n",
       "        text-align: right;\n",
       "    }\n",
       "</style>\n",
       "<table border=\"1\" class=\"dataframe\">\n",
       "  <thead>\n",
       "    <tr style=\"text-align: right;\">\n",
       "      <th></th>\n",
       "      <th>ID</th>\n",
       "      <th>City_Code</th>\n",
       "      <th>Region_Code</th>\n",
       "      <th>Accomodation_Type</th>\n",
       "      <th>Reco_Insurance_Type</th>\n",
       "      <th>Upper_Age</th>\n",
       "      <th>Lower_Age</th>\n",
       "      <th>Is_Spouse</th>\n",
       "      <th>Health Indicator</th>\n",
       "      <th>Holding_Policy_Duration</th>\n",
       "      <th>Holding_Policy_Type</th>\n",
       "      <th>Reco_Policy_Cat</th>\n",
       "      <th>Reco_Policy_Premium</th>\n",
       "      <th>Response</th>\n",
       "    </tr>\n",
       "  </thead>\n",
       "  <tbody>\n",
       "    <tr>\n",
       "      <th>0</th>\n",
       "      <td>1</td>\n",
       "      <td>C3</td>\n",
       "      <td>3213</td>\n",
       "      <td>Rented</td>\n",
       "      <td>Individual</td>\n",
       "      <td>36</td>\n",
       "      <td>36</td>\n",
       "      <td>No</td>\n",
       "      <td>X1</td>\n",
       "      <td>15.0</td>\n",
       "      <td>3.0</td>\n",
       "      <td>22</td>\n",
       "      <td>11628.0</td>\n",
       "      <td>0</td>\n",
       "    </tr>\n",
       "    <tr>\n",
       "      <th>1</th>\n",
       "      <td>2</td>\n",
       "      <td>C5</td>\n",
       "      <td>1117</td>\n",
       "      <td>Owned</td>\n",
       "      <td>Joint</td>\n",
       "      <td>75</td>\n",
       "      <td>22</td>\n",
       "      <td>No</td>\n",
       "      <td>X2</td>\n",
       "      <td>NaN</td>\n",
       "      <td>NaN</td>\n",
       "      <td>22</td>\n",
       "      <td>30510.0</td>\n",
       "      <td>0</td>\n",
       "    </tr>\n",
       "    <tr>\n",
       "      <th>2</th>\n",
       "      <td>3</td>\n",
       "      <td>C5</td>\n",
       "      <td>3732</td>\n",
       "      <td>Owned</td>\n",
       "      <td>Individual</td>\n",
       "      <td>32</td>\n",
       "      <td>32</td>\n",
       "      <td>No</td>\n",
       "      <td>NaN</td>\n",
       "      <td>1.0</td>\n",
       "      <td>1.0</td>\n",
       "      <td>19</td>\n",
       "      <td>7450.0</td>\n",
       "      <td>1</td>\n",
       "    </tr>\n",
       "    <tr>\n",
       "      <th>3</th>\n",
       "      <td>4</td>\n",
       "      <td>C24</td>\n",
       "      <td>4378</td>\n",
       "      <td>Owned</td>\n",
       "      <td>Joint</td>\n",
       "      <td>52</td>\n",
       "      <td>48</td>\n",
       "      <td>No</td>\n",
       "      <td>X1</td>\n",
       "      <td>15.0</td>\n",
       "      <td>3.0</td>\n",
       "      <td>19</td>\n",
       "      <td>17780.0</td>\n",
       "      <td>0</td>\n",
       "    </tr>\n",
       "    <tr>\n",
       "      <th>4</th>\n",
       "      <td>5</td>\n",
       "      <td>C8</td>\n",
       "      <td>2190</td>\n",
       "      <td>Rented</td>\n",
       "      <td>Individual</td>\n",
       "      <td>44</td>\n",
       "      <td>44</td>\n",
       "      <td>No</td>\n",
       "      <td>X2</td>\n",
       "      <td>3.0</td>\n",
       "      <td>1.0</td>\n",
       "      <td>16</td>\n",
       "      <td>10404.0</td>\n",
       "      <td>0</td>\n",
       "    </tr>\n",
       "  </tbody>\n",
       "</table>\n",
       "</div>"
      ],
      "text/plain": [
       "   ID City_Code  Region_Code Accomodation_Type Reco_Insurance_Type  Upper_Age  \\\n",
       "0   1        C3         3213            Rented          Individual         36   \n",
       "1   2        C5         1117             Owned               Joint         75   \n",
       "2   3        C5         3732             Owned          Individual         32   \n",
       "3   4       C24         4378             Owned               Joint         52   \n",
       "4   5        C8         2190            Rented          Individual         44   \n",
       "\n",
       "   Lower_Age Is_Spouse Health Indicator  Holding_Policy_Duration  \\\n",
       "0         36        No               X1                     15.0   \n",
       "1         22        No               X2                      NaN   \n",
       "2         32        No              NaN                      1.0   \n",
       "3         48        No               X1                     15.0   \n",
       "4         44        No               X2                      3.0   \n",
       "\n",
       "   Holding_Policy_Type  Reco_Policy_Cat  Reco_Policy_Premium  Response  \n",
       "0                  3.0               22              11628.0         0  \n",
       "1                  NaN               22              30510.0         0  \n",
       "2                  1.0               19               7450.0         1  \n",
       "3                  3.0               19              17780.0         0  \n",
       "4                  1.0               16              10404.0         0  "
      ]
     },
     "execution_count": 2,
     "metadata": {},
     "output_type": "execute_result"
    }
   ],
   "source": [
    "# Reading from CSV\n",
    "train= pd.read_csv(\"D:/Assignment SD/ML assignment 1/train_Df64byy.csv\")\n",
    "train.head()"
   ]
  },
  {
   "cell_type": "code",
   "execution_count": 3,
   "metadata": {},
   "outputs": [
    {
     "data": {
      "text/html": [
       "<div>\n",
       "<style scoped>\n",
       "    .dataframe tbody tr th:only-of-type {\n",
       "        vertical-align: middle;\n",
       "    }\n",
       "\n",
       "    .dataframe tbody tr th {\n",
       "        vertical-align: top;\n",
       "    }\n",
       "\n",
       "    .dataframe thead th {\n",
       "        text-align: right;\n",
       "    }\n",
       "</style>\n",
       "<table border=\"1\" class=\"dataframe\">\n",
       "  <thead>\n",
       "    <tr style=\"text-align: right;\">\n",
       "      <th></th>\n",
       "      <th>ID</th>\n",
       "      <th>City_Code</th>\n",
       "      <th>Region_Code</th>\n",
       "      <th>Accomodation_Type</th>\n",
       "      <th>Reco_Insurance_Type</th>\n",
       "      <th>Upper_Age</th>\n",
       "      <th>Lower_Age</th>\n",
       "      <th>Is_Spouse</th>\n",
       "      <th>Health Indicator</th>\n",
       "      <th>Holding_Policy_Duration</th>\n",
       "      <th>Holding_Policy_Type</th>\n",
       "      <th>Reco_Policy_Cat</th>\n",
       "      <th>Reco_Policy_Premium</th>\n",
       "    </tr>\n",
       "  </thead>\n",
       "  <tbody>\n",
       "    <tr>\n",
       "      <th>0</th>\n",
       "      <td>50883</td>\n",
       "      <td>C1</td>\n",
       "      <td>156</td>\n",
       "      <td>Owned</td>\n",
       "      <td>Individual</td>\n",
       "      <td>30</td>\n",
       "      <td>30</td>\n",
       "      <td>No</td>\n",
       "      <td>NaN</td>\n",
       "      <td>6</td>\n",
       "      <td>3.0</td>\n",
       "      <td>5</td>\n",
       "      <td>11934.0</td>\n",
       "    </tr>\n",
       "    <tr>\n",
       "      <th>1</th>\n",
       "      <td>50884</td>\n",
       "      <td>C4</td>\n",
       "      <td>7</td>\n",
       "      <td>Owned</td>\n",
       "      <td>Joint</td>\n",
       "      <td>69</td>\n",
       "      <td>68</td>\n",
       "      <td>Yes</td>\n",
       "      <td>X1</td>\n",
       "      <td>3</td>\n",
       "      <td>3.0</td>\n",
       "      <td>18</td>\n",
       "      <td>32204.8</td>\n",
       "    </tr>\n",
       "    <tr>\n",
       "      <th>2</th>\n",
       "      <td>50885</td>\n",
       "      <td>C1</td>\n",
       "      <td>564</td>\n",
       "      <td>Rented</td>\n",
       "      <td>Individual</td>\n",
       "      <td>28</td>\n",
       "      <td>28</td>\n",
       "      <td>No</td>\n",
       "      <td>X3</td>\n",
       "      <td>2</td>\n",
       "      <td>4.0</td>\n",
       "      <td>17</td>\n",
       "      <td>9240.0</td>\n",
       "    </tr>\n",
       "    <tr>\n",
       "      <th>3</th>\n",
       "      <td>50886</td>\n",
       "      <td>C3</td>\n",
       "      <td>1177</td>\n",
       "      <td>Rented</td>\n",
       "      <td>Individual</td>\n",
       "      <td>23</td>\n",
       "      <td>23</td>\n",
       "      <td>No</td>\n",
       "      <td>X3</td>\n",
       "      <td>3</td>\n",
       "      <td>3.0</td>\n",
       "      <td>18</td>\n",
       "      <td>9086.0</td>\n",
       "    </tr>\n",
       "    <tr>\n",
       "      <th>4</th>\n",
       "      <td>50887</td>\n",
       "      <td>C1</td>\n",
       "      <td>951</td>\n",
       "      <td>Owned</td>\n",
       "      <td>Individual</td>\n",
       "      <td>75</td>\n",
       "      <td>75</td>\n",
       "      <td>No</td>\n",
       "      <td>X3</td>\n",
       "      <td>NaN</td>\n",
       "      <td>NaN</td>\n",
       "      <td>5</td>\n",
       "      <td>22534.0</td>\n",
       "    </tr>\n",
       "  </tbody>\n",
       "</table>\n",
       "</div>"
      ],
      "text/plain": [
       "      ID City_Code  Region_Code Accomodation_Type Reco_Insurance_Type  \\\n",
       "0  50883        C1          156             Owned          Individual   \n",
       "1  50884        C4            7             Owned               Joint   \n",
       "2  50885        C1          564            Rented          Individual   \n",
       "3  50886        C3         1177            Rented          Individual   \n",
       "4  50887        C1          951             Owned          Individual   \n",
       "\n",
       "   Upper_Age  Lower_Age Is_Spouse Health Indicator Holding_Policy_Duration  \\\n",
       "0         30         30        No              NaN                       6   \n",
       "1         69         68       Yes               X1                       3   \n",
       "2         28         28        No               X3                       2   \n",
       "3         23         23        No               X3                       3   \n",
       "4         75         75        No               X3                     NaN   \n",
       "\n",
       "   Holding_Policy_Type  Reco_Policy_Cat  Reco_Policy_Premium  \n",
       "0                  3.0                5              11934.0  \n",
       "1                  3.0               18              32204.8  \n",
       "2                  4.0               17               9240.0  \n",
       "3                  3.0               18               9086.0  \n",
       "4                  NaN                5              22534.0  "
      ]
     },
     "execution_count": 3,
     "metadata": {},
     "output_type": "execute_result"
    }
   ],
   "source": [
    "# Reading from CSV\n",
    "test= pd.read_csv(\"D:/Assignment SD/ML assignment 1/test_YCcRUnU.csv\")\n",
    "test.head()"
   ]
  },
  {
   "cell_type": "code",
   "execution_count": 4,
   "metadata": {},
   "outputs": [
    {
     "data": {
      "text/html": [
       "<div>\n",
       "<style scoped>\n",
       "    .dataframe tbody tr th:only-of-type {\n",
       "        vertical-align: middle;\n",
       "    }\n",
       "\n",
       "    .dataframe tbody tr th {\n",
       "        vertical-align: top;\n",
       "    }\n",
       "\n",
       "    .dataframe thead th {\n",
       "        text-align: right;\n",
       "    }\n",
       "</style>\n",
       "<table border=\"1\" class=\"dataframe\">\n",
       "  <thead>\n",
       "    <tr style=\"text-align: right;\">\n",
       "      <th></th>\n",
       "      <th>ID</th>\n",
       "      <th>City_Code</th>\n",
       "      <th>Region_Code</th>\n",
       "      <th>Accomodation_Type</th>\n",
       "      <th>Reco_Insurance_Type</th>\n",
       "      <th>Upper_Age</th>\n",
       "      <th>Lower_Age</th>\n",
       "      <th>Is_Spouse</th>\n",
       "      <th>Health Indicator</th>\n",
       "      <th>Holding_Policy_Duration</th>\n",
       "      <th>Holding_Policy_Type</th>\n",
       "      <th>Reco_Policy_Cat</th>\n",
       "      <th>Reco_Policy_Premium</th>\n",
       "      <th>Response</th>\n",
       "    </tr>\n",
       "  </thead>\n",
       "  <tbody>\n",
       "    <tr>\n",
       "      <th>0</th>\n",
       "      <td>1</td>\n",
       "      <td>C3</td>\n",
       "      <td>3213</td>\n",
       "      <td>Rented</td>\n",
       "      <td>Individual</td>\n",
       "      <td>36</td>\n",
       "      <td>36</td>\n",
       "      <td>No</td>\n",
       "      <td>X1</td>\n",
       "      <td>15</td>\n",
       "      <td>3.0</td>\n",
       "      <td>22</td>\n",
       "      <td>11628.0</td>\n",
       "      <td>0.0</td>\n",
       "    </tr>\n",
       "    <tr>\n",
       "      <th>1</th>\n",
       "      <td>2</td>\n",
       "      <td>C5</td>\n",
       "      <td>1117</td>\n",
       "      <td>Owned</td>\n",
       "      <td>Joint</td>\n",
       "      <td>75</td>\n",
       "      <td>22</td>\n",
       "      <td>No</td>\n",
       "      <td>X2</td>\n",
       "      <td>NaN</td>\n",
       "      <td>NaN</td>\n",
       "      <td>22</td>\n",
       "      <td>30510.0</td>\n",
       "      <td>0.0</td>\n",
       "    </tr>\n",
       "    <tr>\n",
       "      <th>2</th>\n",
       "      <td>3</td>\n",
       "      <td>C5</td>\n",
       "      <td>3732</td>\n",
       "      <td>Owned</td>\n",
       "      <td>Individual</td>\n",
       "      <td>32</td>\n",
       "      <td>32</td>\n",
       "      <td>No</td>\n",
       "      <td>NaN</td>\n",
       "      <td>1</td>\n",
       "      <td>1.0</td>\n",
       "      <td>19</td>\n",
       "      <td>7450.0</td>\n",
       "      <td>1.0</td>\n",
       "    </tr>\n",
       "    <tr>\n",
       "      <th>3</th>\n",
       "      <td>4</td>\n",
       "      <td>C24</td>\n",
       "      <td>4378</td>\n",
       "      <td>Owned</td>\n",
       "      <td>Joint</td>\n",
       "      <td>52</td>\n",
       "      <td>48</td>\n",
       "      <td>No</td>\n",
       "      <td>X1</td>\n",
       "      <td>15</td>\n",
       "      <td>3.0</td>\n",
       "      <td>19</td>\n",
       "      <td>17780.0</td>\n",
       "      <td>0.0</td>\n",
       "    </tr>\n",
       "    <tr>\n",
       "      <th>4</th>\n",
       "      <td>5</td>\n",
       "      <td>C8</td>\n",
       "      <td>2190</td>\n",
       "      <td>Rented</td>\n",
       "      <td>Individual</td>\n",
       "      <td>44</td>\n",
       "      <td>44</td>\n",
       "      <td>No</td>\n",
       "      <td>X2</td>\n",
       "      <td>3</td>\n",
       "      <td>1.0</td>\n",
       "      <td>16</td>\n",
       "      <td>10404.0</td>\n",
       "      <td>0.0</td>\n",
       "    </tr>\n",
       "  </tbody>\n",
       "</table>\n",
       "</div>"
      ],
      "text/plain": [
       "   ID City_Code  Region_Code Accomodation_Type Reco_Insurance_Type  Upper_Age  \\\n",
       "0   1        C3         3213            Rented          Individual         36   \n",
       "1   2        C5         1117             Owned               Joint         75   \n",
       "2   3        C5         3732             Owned          Individual         32   \n",
       "3   4       C24         4378             Owned               Joint         52   \n",
       "4   5        C8         2190            Rented          Individual         44   \n",
       "\n",
       "   Lower_Age Is_Spouse Health Indicator Holding_Policy_Duration  \\\n",
       "0         36        No               X1                      15   \n",
       "1         22        No               X2                     NaN   \n",
       "2         32        No              NaN                       1   \n",
       "3         48        No               X1                      15   \n",
       "4         44        No               X2                       3   \n",
       "\n",
       "   Holding_Policy_Type  Reco_Policy_Cat  Reco_Policy_Premium  Response  \n",
       "0                  3.0               22              11628.0       0.0  \n",
       "1                  NaN               22              30510.0       0.0  \n",
       "2                  1.0               19               7450.0       1.0  \n",
       "3                  3.0               19              17780.0       0.0  \n",
       "4                  1.0               16              10404.0       0.0  "
      ]
     },
     "execution_count": 4,
     "metadata": {},
     "output_type": "execute_result"
    }
   ],
   "source": [
    "frames=[train,test]\n",
    "df=pd.concat(frames)\n",
    "df.head()"
   ]
  },
  {
   "cell_type": "code",
   "execution_count": 5,
   "metadata": {},
   "outputs": [
    {
     "name": "stdout",
     "output_type": "stream",
     "text": [
      "<class 'pandas.core.frame.DataFrame'>\n",
      "Int64Index: 72687 entries, 0 to 21804\n",
      "Data columns (total 14 columns):\n",
      " #   Column                   Non-Null Count  Dtype  \n",
      "---  ------                   --------------  -----  \n",
      " 0   ID                       72687 non-null  int64  \n",
      " 1   City_Code                72687 non-null  object \n",
      " 2   Region_Code              72687 non-null  int64  \n",
      " 3   Accomodation_Type        72687 non-null  object \n",
      " 4   Reco_Insurance_Type      72687 non-null  object \n",
      " 5   Upper_Age                72687 non-null  int64  \n",
      " 6   Lower_Age                72687 non-null  int64  \n",
      " 7   Is_Spouse                72687 non-null  object \n",
      " 8   Health Indicator         55969 non-null  object \n",
      " 9   Holding_Policy_Duration  43833 non-null  object \n",
      " 10  Holding_Policy_Type      43833 non-null  float64\n",
      " 11  Reco_Policy_Cat          72687 non-null  int64  \n",
      " 12  Reco_Policy_Premium      72687 non-null  float64\n",
      " 13  Response                 50882 non-null  float64\n",
      "dtypes: float64(3), int64(5), object(6)\n",
      "memory usage: 6.7+ MB\n"
     ]
    }
   ],
   "source": [
    "df.info()"
   ]
  },
  {
   "cell_type": "code",
   "execution_count": 6,
   "metadata": {},
   "outputs": [
    {
     "data": {
      "text/html": [
       "<div>\n",
       "<style scoped>\n",
       "    .dataframe tbody tr th:only-of-type {\n",
       "        vertical-align: middle;\n",
       "    }\n",
       "\n",
       "    .dataframe tbody tr th {\n",
       "        vertical-align: top;\n",
       "    }\n",
       "\n",
       "    .dataframe thead th {\n",
       "        text-align: right;\n",
       "    }\n",
       "</style>\n",
       "<table border=\"1\" class=\"dataframe\">\n",
       "  <thead>\n",
       "    <tr style=\"text-align: right;\">\n",
       "      <th></th>\n",
       "      <th>ID</th>\n",
       "      <th>Region_Code</th>\n",
       "      <th>Upper_Age</th>\n",
       "      <th>Lower_Age</th>\n",
       "      <th>Holding_Policy_Type</th>\n",
       "      <th>Reco_Policy_Cat</th>\n",
       "      <th>Reco_Policy_Premium</th>\n",
       "      <th>Response</th>\n",
       "    </tr>\n",
       "  </thead>\n",
       "  <tbody>\n",
       "    <tr>\n",
       "      <th>count</th>\n",
       "      <td>72687.000000</td>\n",
       "      <td>72687.000000</td>\n",
       "      <td>72687.000000</td>\n",
       "      <td>72687.000000</td>\n",
       "      <td>43833.000000</td>\n",
       "      <td>72687.000000</td>\n",
       "      <td>72687.000000</td>\n",
       "      <td>50882.000000</td>\n",
       "    </tr>\n",
       "    <tr>\n",
       "      <th>mean</th>\n",
       "      <td>36344.000000</td>\n",
       "      <td>1737.573101</td>\n",
       "      <td>44.862713</td>\n",
       "      <td>42.741632</td>\n",
       "      <td>2.439486</td>\n",
       "      <td>15.122140</td>\n",
       "      <td>14194.856472</td>\n",
       "      <td>0.239947</td>\n",
       "    </tr>\n",
       "    <tr>\n",
       "      <th>std</th>\n",
       "      <td>20983.073845</td>\n",
       "      <td>1428.388402</td>\n",
       "      <td>17.293563</td>\n",
       "      <td>17.304194</td>\n",
       "      <td>1.029450</td>\n",
       "      <td>6.329295</td>\n",
       "      <td>6562.564815</td>\n",
       "      <td>0.427055</td>\n",
       "    </tr>\n",
       "    <tr>\n",
       "      <th>min</th>\n",
       "      <td>1.000000</td>\n",
       "      <td>1.000000</td>\n",
       "      <td>18.000000</td>\n",
       "      <td>16.000000</td>\n",
       "      <td>1.000000</td>\n",
       "      <td>1.000000</td>\n",
       "      <td>2152.000000</td>\n",
       "      <td>0.000000</td>\n",
       "    </tr>\n",
       "    <tr>\n",
       "      <th>25%</th>\n",
       "      <td>18172.500000</td>\n",
       "      <td>527.000000</td>\n",
       "      <td>28.000000</td>\n",
       "      <td>27.000000</td>\n",
       "      <td>1.000000</td>\n",
       "      <td>12.000000</td>\n",
       "      <td>9254.000000</td>\n",
       "      <td>0.000000</td>\n",
       "    </tr>\n",
       "    <tr>\n",
       "      <th>50%</th>\n",
       "      <td>36344.000000</td>\n",
       "      <td>1391.000000</td>\n",
       "      <td>44.000000</td>\n",
       "      <td>40.000000</td>\n",
       "      <td>3.000000</td>\n",
       "      <td>17.000000</td>\n",
       "      <td>13200.000000</td>\n",
       "      <td>0.000000</td>\n",
       "    </tr>\n",
       "    <tr>\n",
       "      <th>75%</th>\n",
       "      <td>54515.500000</td>\n",
       "      <td>2681.000000</td>\n",
       "      <td>59.000000</td>\n",
       "      <td>57.000000</td>\n",
       "      <td>3.000000</td>\n",
       "      <td>20.000000</td>\n",
       "      <td>18144.000000</td>\n",
       "      <td>0.000000</td>\n",
       "    </tr>\n",
       "    <tr>\n",
       "      <th>max</th>\n",
       "      <td>72687.000000</td>\n",
       "      <td>6194.000000</td>\n",
       "      <td>75.000000</td>\n",
       "      <td>75.000000</td>\n",
       "      <td>4.000000</td>\n",
       "      <td>22.000000</td>\n",
       "      <td>43776.000000</td>\n",
       "      <td>1.000000</td>\n",
       "    </tr>\n",
       "  </tbody>\n",
       "</table>\n",
       "</div>"
      ],
      "text/plain": [
       "                 ID   Region_Code     Upper_Age     Lower_Age  \\\n",
       "count  72687.000000  72687.000000  72687.000000  72687.000000   \n",
       "mean   36344.000000   1737.573101     44.862713     42.741632   \n",
       "std    20983.073845   1428.388402     17.293563     17.304194   \n",
       "min        1.000000      1.000000     18.000000     16.000000   \n",
       "25%    18172.500000    527.000000     28.000000     27.000000   \n",
       "50%    36344.000000   1391.000000     44.000000     40.000000   \n",
       "75%    54515.500000   2681.000000     59.000000     57.000000   \n",
       "max    72687.000000   6194.000000     75.000000     75.000000   \n",
       "\n",
       "       Holding_Policy_Type  Reco_Policy_Cat  Reco_Policy_Premium      Response  \n",
       "count         43833.000000     72687.000000         72687.000000  50882.000000  \n",
       "mean              2.439486        15.122140         14194.856472      0.239947  \n",
       "std               1.029450         6.329295          6562.564815      0.427055  \n",
       "min               1.000000         1.000000          2152.000000      0.000000  \n",
       "25%               1.000000        12.000000          9254.000000      0.000000  \n",
       "50%               3.000000        17.000000         13200.000000      0.000000  \n",
       "75%               3.000000        20.000000         18144.000000      0.000000  \n",
       "max               4.000000        22.000000         43776.000000      1.000000  "
      ]
     },
     "execution_count": 6,
     "metadata": {},
     "output_type": "execute_result"
    }
   ],
   "source": [
    "df.describe()"
   ]
  },
  {
   "cell_type": "code",
   "execution_count": 7,
   "metadata": {},
   "outputs": [
    {
     "name": "stdout",
     "output_type": "stream",
     "text": [
      "2\n",
      "2\n",
      "10\n"
     ]
    }
   ],
   "source": [
    "\n",
    "print(len(df['Reco_Insurance_Type'].unique()))\n",
    "print(len(df['Is_Spouse'].unique()))\n",
    "print(len(df['Health Indicator'].unique()))"
   ]
  },
  {
   "cell_type": "code",
   "execution_count": 8,
   "metadata": {},
   "outputs": [
    {
     "data": {
      "text/plain": [
       "Index(['ID', 'City_Code', 'Region_Code', 'Accomodation_Type',\n",
       "       'Reco_Insurance_Type', 'Upper_Age', 'Lower_Age', 'Is_Spouse',\n",
       "       'Health Indicator', 'Holding_Policy_Duration', 'Holding_Policy_Type',\n",
       "       'Reco_Policy_Cat', 'Reco_Policy_Premium', 'Response'],\n",
       "      dtype='object')"
      ]
     },
     "execution_count": 8,
     "metadata": {},
     "output_type": "execute_result"
    }
   ],
   "source": [
    "df.columns"
   ]
  },
  {
   "cell_type": "code",
   "execution_count": 9,
   "metadata": {},
   "outputs": [
    {
     "data": {
      "text/plain": [
       "ID                             0\n",
       "City_Code                      0\n",
       "Region_Code                    0\n",
       "Accomodation_Type              0\n",
       "Reco_Insurance_Type            0\n",
       "Upper_Age                      0\n",
       "Lower_Age                      0\n",
       "Is_Spouse                      0\n",
       "Health Indicator           16718\n",
       "Holding_Policy_Duration    28854\n",
       "Holding_Policy_Type        28854\n",
       "Reco_Policy_Cat                0\n",
       "Reco_Policy_Premium            0\n",
       "Response                   21805\n",
       "dtype: int64"
      ]
     },
     "execution_count": 9,
     "metadata": {},
     "output_type": "execute_result"
    }
   ],
   "source": [
    "#Inspecting the Null values , column-wise\n",
    "df.isnull().sum(axis=0)"
   ]
  },
  {
   "cell_type": "code",
   "execution_count": 10,
   "metadata": {},
   "outputs": [],
   "source": [
    "df=df.dropna(how='any')"
   ]
  },
  {
   "cell_type": "code",
   "execution_count": 11,
   "metadata": {},
   "outputs": [
    {
     "data": {
      "text/plain": [
       "ID                         0\n",
       "City_Code                  0\n",
       "Region_Code                0\n",
       "Accomodation_Type          0\n",
       "Reco_Insurance_Type        0\n",
       "Upper_Age                  0\n",
       "Lower_Age                  0\n",
       "Is_Spouse                  0\n",
       "Health Indicator           0\n",
       "Holding_Policy_Duration    0\n",
       "Holding_Policy_Type        0\n",
       "Reco_Policy_Cat            0\n",
       "Reco_Policy_Premium        0\n",
       "Response                   0\n",
       "dtype: int64"
      ]
     },
     "execution_count": 11,
     "metadata": {},
     "output_type": "execute_result"
    }
   ],
   "source": [
    "df.isnull().sum(axis=0)"
   ]
  },
  {
   "cell_type": "code",
   "execution_count": 12,
   "metadata": {},
   "outputs": [
    {
     "data": {
      "text/plain": [
       "0"
      ]
     },
     "execution_count": 12,
     "metadata": {},
     "output_type": "execute_result"
    }
   ],
   "source": [
    "len(df[df.duplicated()].index)"
   ]
  },
  {
   "cell_type": "code",
   "execution_count": 13,
   "metadata": {},
   "outputs": [
    {
     "data": {
      "image/png": "[encoded data removed]",
      "text/plain": [
       "<Figure size 432x288 with 1 Axes>"
      ]
     },
     "metadata": {
      "needs_background": "light"
     },
     "output_type": "display_data"
    }
   ],
   "source": [
    "df.groupby(['Accomodation_Type'])['Holding_Policy_Type'].median().plot.barh(color='Brown')\n",
    "plt.show()"
   ]
  },
  {
   "cell_type": "code",
   "execution_count": 14,
   "metadata": {},
   "outputs": [
    {
     "data": {
      "image/png": "[encoded data removed]",
      "text/plain": [
       "<Figure size 432x288 with 1 Axes>"
      ]
     },
     "metadata": {
      "needs_background": "light"
     },
     "output_type": "display_data"
    }
   ],
   "source": [
    "df.groupby(['Reco_Insurance_Type'])['Holding_Policy_Type'].median().plot.bar(color='Green')\n",
    "plt.show()"
   ]
  },
  {
   "cell_type": "markdown",
   "metadata": {},
   "source": [
    "Q5 >>> Converting the response variable to a convenient form"
   ]
  },
  {
   "cell_type": "code",
   "execution_count": 15,
   "metadata": {},
   "outputs": [
    {
     "data": {
      "text/plain": [
       "0.0    0.757941\n",
       "1.0    0.242059\n",
       "Name: Response, dtype: float64"
      ]
     },
     "execution_count": 15,
     "metadata": {},
     "output_type": "execute_result"
    }
   ],
   "source": [
    "df.Response.value_counts(normalize=True)"
   ]
  },
  {
   "cell_type": "code",
   "execution_count": 16,
   "metadata": {},
   "outputs": [
    {
     "data": {
      "text/plain": [
       "0.0    17848\n",
       "1.0     5700\n",
       "Name: Response, dtype: int64"
      ]
     },
     "execution_count": 16,
     "metadata": {},
     "output_type": "execute_result"
    }
   ],
   "source": [
    "df.Response.value_counts()"
   ]
  },
  {
   "cell_type": "markdown",
   "metadata": {},
   "source": [
    "Make suitable plots for associations with numerical features and categorical features"
   ]
  },
  {
   "cell_type": "code",
   "execution_count": 17,
   "metadata": {},
   "outputs": [],
   "source": [
    "#here we are seperating object and numerical data types\n",
    "obj_col=[]\n",
    "num_col=[]\n",
    "for col in df.columns:\n",
    "    if df[col].dtype=='O':\n",
    "        obj_col.append(col)\n",
    "    else:\n",
    "        num_col.append(col)"
   ]
  },
  {
   "cell_type": "code",
   "execution_count": 18,
   "metadata": {},
   "outputs": [
    {
     "name": "stdout",
     "output_type": "stream",
     "text": [
      "Object data type features  ['City_Code', 'Accomodation_Type', 'Reco_Insurance_Type', 'Is_Spouse', 'Health Indicator', 'Holding_Policy_Duration']\n",
      "Numerical data type features  ['ID', 'Region_Code', 'Upper_Age', 'Lower_Age', 'Holding_Policy_Type', 'Reco_Policy_Cat', 'Reco_Policy_Premium', 'Response']\n"
     ]
    }
   ],
   "source": [
    "print(\"Object data type features \",obj_col)\n",
    "print(\"Numerical data type features \",num_col)"
   ]
  },
  {
   "cell_type": "code",
   "execution_count": 19,
   "metadata": {},
   "outputs": [
    {
     "data": {
      "image/png": "[encoded data removed]",
      "text/plain": [
       "<Figure size 576x432 with 1 Axes>"
      ]
     },
     "metadata": {
      "needs_background": "light"
     },
     "output_type": "display_data"
    },
    {
     "data": {
      "image/png": "[encoded data removed]",
      "text/plain": [
       "<Figure size 576x432 with 1 Axes>"
      ]
     },
     "metadata": {
      "needs_background": "light"
     },
     "output_type": "display_data"
    },
    {
     "data": {
      "image/png": "[encoded data removed]",
      "text/plain": [
       "<Figure size 576x432 with 1 Axes>"
      ]
     },
     "metadata": {
      "needs_background": "light"
     },
     "output_type": "display_data"
    },
    {
     "data": {
      "image/png": "[encoded data removed]",
      "text/plain": [
       "<Figure size 576x432 with 1 Axes>"
      ]
     },
     "metadata": {
      "needs_background": "light"
     },
     "output_type": "display_data"
    },
    {
     "data": {
      "image/png": "[encoded data removed]",
      "text/plain": [
       "<Figure size 576x432 with 1 Axes>"
      ]
     },
     "metadata": {
      "needs_background": "light"
     },
     "output_type": "display_data"
    }
   ],
   "source": [
    "from numpy import median\n",
    "for col in obj_col[1:]:\n",
    "    plt.figure(figsize=(8,6))\n",
    "    sns.violinplot(df[col],df[\"Response\"])\n",
    "    plt.title(\"Response vs \"+col,fontsize=15)\n",
    "    plt.xlabel(col,fontsize=10)\n",
    "    plt.ylabel(\"Response\",fontsize=10)\n",
    "    plt.show()\n",
    "#sns.despine()\n",
    "# violin plots give best of both worlds \n",
    "# it gives boxplot and distribution of data like whether the data is skewed or not.\n",
    "# if normally distributed then it's the best you can get.\n",
    "# you can also use barplots in this case."
   ]
  },
  {
   "cell_type": "code",
   "execution_count": 20,
   "metadata": {},
   "outputs": [
    {
     "data": {
      "image/png": "[encoded data removed]",
      "text/plain": [
       "<Figure size 720x648 with 2 Axes>"
      ]
     },
     "metadata": {
      "needs_background": "light"
     },
     "output_type": "display_data"
    }
   ],
   "source": [
    "plt.figure(figsize=(10,9))\n",
    "sns.heatmap(df.corr(),annot=True,cmap='RdBu_r')\n",
    "plt.title(\"Correlation Of Each Numerical Features\")\n",
    "plt.show()"
   ]
  },
  {
   "cell_type": "markdown",
   "metadata": {},
   "source": [
    "We can see that duration variable is highly correlated with response variable 'Response Flag' . Whereas Accomodation Type variable is not highly correlated with response variable 'Response Flag'."
   ]
  },
  {
   "cell_type": "code",
   "execution_count": 21,
   "metadata": {},
   "outputs": [
    {
     "name": "stderr",
     "output_type": "stream",
     "text": [
      "D:\\anaconda1\\lib\\site-packages\\seaborn\\distributions.py:369: UserWarning: Default bandwidth for data is 0; skipping density estimation.\n",
      "  warnings.warn(msg, UserWarning)\n"
     ]
    },
    {
     "data": {
      "text/plain": [
       "<Figure size 720x576 with 0 Axes>"
      ]
     },
     "metadata": {},
     "output_type": "display_data"
    },
    {
     "data": {
      "image/png": "[encoded data removed]",
      "text/plain": [
       "<Figure size 432x432 with 3 Axes>"
      ]
     },
     "metadata": {
      "needs_background": "light"
     },
     "output_type": "display_data"
    },
    {
     "name": "stderr",
     "output_type": "stream",
     "text": [
      "D:\\anaconda1\\lib\\site-packages\\seaborn\\distributions.py:369: UserWarning: Default bandwidth for data is 0; skipping density estimation.\n",
      "  warnings.warn(msg, UserWarning)\n"
     ]
    },
    {
     "data": {
      "text/plain": [
       "<Figure size 720x576 with 0 Axes>"
      ]
     },
     "metadata": {},
     "output_type": "display_data"
    },
    {
     "data": {
      "image/png": "[encoded data removed]",
      "text/plain": [
       "<Figure size 432x432 with 3 Axes>"
      ]
     },
     "metadata": {
      "needs_background": "light"
     },
     "output_type": "display_data"
    },
    {
     "name": "stderr",
     "output_type": "stream",
     "text": [
      "D:\\anaconda1\\lib\\site-packages\\seaborn\\distributions.py:369: UserWarning: Default bandwidth for data is 0; skipping density estimation.\n",
      "  warnings.warn(msg, UserWarning)\n"
     ]
    },
    {
     "data": {
      "text/plain": [
       "<Figure size 720x576 with 0 Axes>"
      ]
     },
     "metadata": {},
     "output_type": "display_data"
    },
    {
     "data": {
      "image/png": "[encoded data removed]",
      "text/plain": [
       "<Figure size 432x432 with 3 Axes>"
      ]
     },
     "metadata": {
      "needs_background": "light"
     },
     "output_type": "display_data"
    },
    {
     "name": "stderr",
     "output_type": "stream",
     "text": [
      "D:\\anaconda1\\lib\\site-packages\\seaborn\\distributions.py:369: UserWarning: Default bandwidth for data is 0; skipping density estimation.\n",
      "  warnings.warn(msg, UserWarning)\n"
     ]
    },
    {
     "data": {
      "text/plain": [
       "<Figure size 720x576 with 0 Axes>"
      ]
     },
     "metadata": {},
     "output_type": "display_data"
    },
    {
     "data": {
      "image/png": "[encoded data removed]",
      "text/plain": [
       "<Figure size 432x432 with 3 Axes>"
      ]
     },
     "metadata": {
      "needs_background": "light"
     },
     "output_type": "display_data"
    },
    {
     "name": "stderr",
     "output_type": "stream",
     "text": [
      "D:\\anaconda1\\lib\\site-packages\\seaborn\\distributions.py:369: UserWarning: Default bandwidth for data is 0; skipping density estimation.\n",
      "  warnings.warn(msg, UserWarning)\n"
     ]
    },
    {
     "data": {
      "text/plain": [
       "<Figure size 720x576 with 0 Axes>"
      ]
     },
     "metadata": {},
     "output_type": "display_data"
    },
    {
     "data": {
      "image/png": "[encoded data removed]",
      "text/plain": [
       "<Figure size 432x432 with 3 Axes>"
      ]
     },
     "metadata": {
      "needs_background": "light"
     },
     "output_type": "display_data"
    },
    {
     "name": "stderr",
     "output_type": "stream",
     "text": [
      "D:\\anaconda1\\lib\\site-packages\\seaborn\\distributions.py:369: UserWarning: Default bandwidth for data is 0; skipping density estimation.\n",
      "  warnings.warn(msg, UserWarning)\n"
     ]
    },
    {
     "data": {
      "text/plain": [
       "<Figure size 720x576 with 0 Axes>"
      ]
     },
     "metadata": {},
     "output_type": "display_data"
    },
    {
     "data": {
      "image/png": "[encoded data removed]",
      "text/plain": [
       "<Figure size 432x432 with 3 Axes>"
      ]
     },
     "metadata": {
      "needs_background": "light"
     },
     "output_type": "display_data"
    },
    {
     "name": "stderr",
     "output_type": "stream",
     "text": [
      "D:\\anaconda1\\lib\\site-packages\\seaborn\\distributions.py:369: UserWarning: Default bandwidth for data is 0; skipping density estimation.\n",
      "  warnings.warn(msg, UserWarning)\n"
     ]
    },
    {
     "data": {
      "text/plain": [
       "<Figure size 720x576 with 0 Axes>"
      ]
     },
     "metadata": {},
     "output_type": "display_data"
    },
    {
     "data": {
      "image/png": "[encoded data removed]",
      "text/plain": [
       "<Figure size 432x432 with 3 Axes>"
      ]
     },
     "metadata": {
      "needs_background": "light"
     },
     "output_type": "display_data"
    }
   ],
   "source": [
    "for col in num_col[:-1]:\n",
    "    plt.figure(figsize=(10,8))\n",
    "    sns.jointplot(x = df[col],y = df[\"Response\"],kind='reg')\n",
    "    plt.xlabel(col,fontsize = 15)\n",
    "    plt.ylabel(\"Response\",fontsize = 15)\n",
    "    plt.grid()\n",
    "    plt.show()"
   ]
  },
  {
   "cell_type": "code",
   "execution_count": 22,
   "metadata": {},
   "outputs": [],
   "source": [
    "from sklearn import preprocessing\n",
    "label_encoder=preprocessing.LabelEncoder()\n",
    "df['Reco_Insurance_Type']=label_encoder.fit_transform(df['Reco_Insurance_Type'])"
   ]
  },
  {
   "cell_type": "code",
   "execution_count": 23,
   "metadata": {},
   "outputs": [],
   "source": [
    "from sklearn import preprocessing\n",
    "label_encoder=preprocessing.LabelEncoder()\n",
    "df['Is_Spouse']=label_encoder.fit_transform(df['Is_Spouse'])"
   ]
  },
  {
   "cell_type": "code",
   "execution_count": 24,
   "metadata": {},
   "outputs": [],
   "source": [
    "from sklearn import preprocessing\n",
    "label_encoder=preprocessing.LabelEncoder()\n",
    "df['Accomodation_Type']=label_encoder.fit_transform(df['Accomodation_Type'])\n"
   ]
  },
  {
   "cell_type": "code",
   "execution_count": 25,
   "metadata": {},
   "outputs": [],
   "source": [
    "from sklearn import preprocessing\n",
    "label_encoder=preprocessing.LabelEncoder()\n",
    "df['Health Indicator']=label_encoder.fit_transform(df['Health Indicator'])"
   ]
  },
  {
   "cell_type": "code",
   "execution_count": 26,
   "metadata": {},
   "outputs": [],
   "source": [
    "from sklearn import preprocessing\n",
    "label_encoder=preprocessing.LabelEncoder()\n",
    "df['City_Code']=label_encoder.fit_transform(df['City_Code'])"
   ]
  },
  {
   "cell_type": "code",
   "execution_count": 27,
   "metadata": {},
   "outputs": [
    {
     "data": {
      "text/html": [
       "<div>\n",
       "<style scoped>\n",
       "    .dataframe tbody tr th:only-of-type {\n",
       "        vertical-align: middle;\n",
       "    }\n",
       "\n",
       "    .dataframe tbody tr th {\n",
       "        vertical-align: top;\n",
       "    }\n",
       "\n",
       "    .dataframe thead th {\n",
       "        text-align: right;\n",
       "    }\n",
       "</style>\n",
       "<table border=\"1\" class=\"dataframe\">\n",
       "  <thead>\n",
       "    <tr style=\"text-align: right;\">\n",
       "      <th></th>\n",
       "      <th>ID</th>\n",
       "      <th>City_Code</th>\n",
       "      <th>Region_Code</th>\n",
       "      <th>Accomodation_Type</th>\n",
       "      <th>Reco_Insurance_Type</th>\n",
       "      <th>Upper_Age</th>\n",
       "      <th>Lower_Age</th>\n",
       "      <th>Is_Spouse</th>\n",
       "      <th>Health Indicator</th>\n",
       "      <th>Holding_Policy_Duration</th>\n",
       "      <th>Holding_Policy_Type</th>\n",
       "      <th>Reco_Policy_Cat</th>\n",
       "      <th>Reco_Policy_Premium</th>\n",
       "      <th>Response</th>\n",
       "    </tr>\n",
       "  </thead>\n",
       "  <tbody>\n",
       "    <tr>\n",
       "      <th>0</th>\n",
       "      <td>1</td>\n",
       "      <td>22</td>\n",
       "      <td>3213</td>\n",
       "      <td>1</td>\n",
       "      <td>0</td>\n",
       "      <td>36</td>\n",
       "      <td>36</td>\n",
       "      <td>0</td>\n",
       "      <td>0</td>\n",
       "      <td>15</td>\n",
       "      <td>3.0</td>\n",
       "      <td>22</td>\n",
       "      <td>11628.0</td>\n",
       "      <td>0.0</td>\n",
       "    </tr>\n",
       "    <tr>\n",
       "      <th>3</th>\n",
       "      <td>4</td>\n",
       "      <td>16</td>\n",
       "      <td>4378</td>\n",
       "      <td>0</td>\n",
       "      <td>1</td>\n",
       "      <td>52</td>\n",
       "      <td>48</td>\n",
       "      <td>0</td>\n",
       "      <td>0</td>\n",
       "      <td>15</td>\n",
       "      <td>3.0</td>\n",
       "      <td>19</td>\n",
       "      <td>17780.0</td>\n",
       "      <td>0.0</td>\n",
       "    </tr>\n",
       "    <tr>\n",
       "      <th>4</th>\n",
       "      <td>5</td>\n",
       "      <td>34</td>\n",
       "      <td>2190</td>\n",
       "      <td>1</td>\n",
       "      <td>0</td>\n",
       "      <td>44</td>\n",
       "      <td>44</td>\n",
       "      <td>0</td>\n",
       "      <td>1</td>\n",
       "      <td>3</td>\n",
       "      <td>1.0</td>\n",
       "      <td>16</td>\n",
       "      <td>10404.0</td>\n",
       "      <td>0.0</td>\n",
       "    </tr>\n",
       "    <tr>\n",
       "      <th>5</th>\n",
       "      <td>6</td>\n",
       "      <td>35</td>\n",
       "      <td>1785</td>\n",
       "      <td>1</td>\n",
       "      <td>0</td>\n",
       "      <td>52</td>\n",
       "      <td>52</td>\n",
       "      <td>0</td>\n",
       "      <td>1</td>\n",
       "      <td>5</td>\n",
       "      <td>1.0</td>\n",
       "      <td>22</td>\n",
       "      <td>15264.0</td>\n",
       "      <td>1.0</td>\n",
       "    </tr>\n",
       "    <tr>\n",
       "      <th>7</th>\n",
       "      <td>8</td>\n",
       "      <td>0</td>\n",
       "      <td>3175</td>\n",
       "      <td>0</td>\n",
       "      <td>1</td>\n",
       "      <td>75</td>\n",
       "      <td>73</td>\n",
       "      <td>1</td>\n",
       "      <td>3</td>\n",
       "      <td>9</td>\n",
       "      <td>4.0</td>\n",
       "      <td>17</td>\n",
       "      <td>29344.0</td>\n",
       "      <td>1.0</td>\n",
       "    </tr>\n",
       "  </tbody>\n",
       "</table>\n",
       "</div>"
      ],
      "text/plain": [
       "   ID  City_Code  Region_Code  Accomodation_Type  Reco_Insurance_Type  \\\n",
       "0   1         22         3213                  1                    0   \n",
       "3   4         16         4378                  0                    1   \n",
       "4   5         34         2190                  1                    0   \n",
       "5   6         35         1785                  1                    0   \n",
       "7   8          0         3175                  0                    1   \n",
       "\n",
       "   Upper_Age  Lower_Age  Is_Spouse  Health Indicator Holding_Policy_Duration  \\\n",
       "0         36         36          0                 0                      15   \n",
       "3         52         48          0                 0                      15   \n",
       "4         44         44          0                 1                       3   \n",
       "5         52         52          0                 1                       5   \n",
       "7         75         73          1                 3                       9   \n",
       "\n",
       "   Holding_Policy_Type  Reco_Policy_Cat  Reco_Policy_Premium  Response  \n",
       "0                  3.0               22              11628.0       0.0  \n",
       "3                  3.0               19              17780.0       0.0  \n",
       "4                  1.0               16              10404.0       0.0  \n",
       "5                  1.0               22              15264.0       1.0  \n",
       "7                  4.0               17              29344.0       1.0  "
      ]
     },
     "execution_count": 27,
     "metadata": {},
     "output_type": "execute_result"
    }
   ],
   "source": [
    "df.head()"
   ]
  },
  {
   "cell_type": "code",
   "execution_count": 28,
   "metadata": {},
   "outputs": [
    {
     "data": {
      "text/html": [
       "<div>\n",
       "<style scoped>\n",
       "    .dataframe tbody tr th:only-of-type {\n",
       "        vertical-align: middle;\n",
       "    }\n",
       "\n",
       "    .dataframe tbody tr th {\n",
       "        vertical-align: top;\n",
       "    }\n",
       "\n",
       "    .dataframe thead th {\n",
       "        text-align: right;\n",
       "    }\n",
       "</style>\n",
       "<table border=\"1\" class=\"dataframe\">\n",
       "  <thead>\n",
       "    <tr style=\"text-align: right;\">\n",
       "      <th></th>\n",
       "      <th>ID</th>\n",
       "      <th>City_Code</th>\n",
       "      <th>Region_Code</th>\n",
       "      <th>Accomodation_Type</th>\n",
       "      <th>Reco_Insurance_Type</th>\n",
       "      <th>Upper_Age</th>\n",
       "      <th>Lower_Age</th>\n",
       "      <th>Is_Spouse</th>\n",
       "      <th>Health Indicator</th>\n",
       "      <th>Holding_Policy_Type</th>\n",
       "      <th>Reco_Policy_Cat</th>\n",
       "      <th>Reco_Policy_Premium</th>\n",
       "      <th>Response</th>\n",
       "    </tr>\n",
       "  </thead>\n",
       "  <tbody>\n",
       "    <tr>\n",
       "      <th>ID</th>\n",
       "      <td>1.000000</td>\n",
       "      <td>-0.007708</td>\n",
       "      <td>-0.004799</td>\n",
       "      <td>0.004794</td>\n",
       "      <td>-0.010715</td>\n",
       "      <td>-0.007819</td>\n",
       "      <td>-0.004889</td>\n",
       "      <td>-0.010145</td>\n",
       "      <td>0.000511</td>\n",
       "      <td>0.004841</td>\n",
       "      <td>-0.008977</td>\n",
       "      <td>-0.007925</td>\n",
       "      <td>0.004300</td>\n",
       "    </tr>\n",
       "    <tr>\n",
       "      <th>City_Code</th>\n",
       "      <td>-0.007708</td>\n",
       "      <td>1.000000</td>\n",
       "      <td>0.069864</td>\n",
       "      <td>0.049116</td>\n",
       "      <td>-0.054230</td>\n",
       "      <td>-0.147320</td>\n",
       "      <td>-0.134509</td>\n",
       "      <td>-0.052434</td>\n",
       "      <td>-0.021106</td>\n",
       "      <td>-0.019685</td>\n",
       "      <td>-0.093838</td>\n",
       "      <td>-0.145134</td>\n",
       "      <td>-0.000827</td>\n",
       "    </tr>\n",
       "    <tr>\n",
       "      <th>Region_Code</th>\n",
       "      <td>-0.004799</td>\n",
       "      <td>0.069864</td>\n",
       "      <td>1.000000</td>\n",
       "      <td>0.005441</td>\n",
       "      <td>-0.011924</td>\n",
       "      <td>-0.007473</td>\n",
       "      <td>-0.005174</td>\n",
       "      <td>-0.006020</td>\n",
       "      <td>0.020428</td>\n",
       "      <td>0.009845</td>\n",
       "      <td>-0.064802</td>\n",
       "      <td>-0.011561</td>\n",
       "      <td>0.003073</td>\n",
       "    </tr>\n",
       "    <tr>\n",
       "      <th>Accomodation_Type</th>\n",
       "      <td>0.004794</td>\n",
       "      <td>0.049116</td>\n",
       "      <td>0.005441</td>\n",
       "      <td>1.000000</td>\n",
       "      <td>-0.158268</td>\n",
       "      <td>-0.347691</td>\n",
       "      <td>-0.291862</td>\n",
       "      <td>-0.156720</td>\n",
       "      <td>-0.051306</td>\n",
       "      <td>-0.151601</td>\n",
       "      <td>-0.023347</td>\n",
       "      <td>-0.281957</td>\n",
       "      <td>-0.001946</td>\n",
       "    </tr>\n",
       "    <tr>\n",
       "      <th>Reco_Insurance_Type</th>\n",
       "      <td>-0.010715</td>\n",
       "      <td>-0.054230</td>\n",
       "      <td>-0.011924</td>\n",
       "      <td>-0.158268</td>\n",
       "      <td>1.000000</td>\n",
       "      <td>0.164261</td>\n",
       "      <td>-0.114269</td>\n",
       "      <td>0.878552</td>\n",
       "      <td>0.050744</td>\n",
       "      <td>0.085299</td>\n",
       "      <td>0.014522</td>\n",
       "      <td>0.595756</td>\n",
       "      <td>0.008537</td>\n",
       "    </tr>\n",
       "    <tr>\n",
       "      <th>Upper_Age</th>\n",
       "      <td>-0.007819</td>\n",
       "      <td>-0.147320</td>\n",
       "      <td>-0.007473</td>\n",
       "      <td>-0.347691</td>\n",
       "      <td>0.164261</td>\n",
       "      <td>1.000000</td>\n",
       "      <td>0.896605</td>\n",
       "      <td>0.146518</td>\n",
       "      <td>0.013688</td>\n",
       "      <td>0.135353</td>\n",
       "      <td>0.026707</td>\n",
       "      <td>0.749360</td>\n",
       "      <td>-0.004938</td>\n",
       "    </tr>\n",
       "    <tr>\n",
       "      <th>Lower_Age</th>\n",
       "      <td>-0.004889</td>\n",
       "      <td>-0.134509</td>\n",
       "      <td>-0.005174</td>\n",
       "      <td>-0.291862</td>\n",
       "      <td>-0.114269</td>\n",
       "      <td>0.896605</td>\n",
       "      <td>1.000000</td>\n",
       "      <td>-0.011669</td>\n",
       "      <td>0.009263</td>\n",
       "      <td>0.112106</td>\n",
       "      <td>0.023930</td>\n",
       "      <td>0.525896</td>\n",
       "      <td>-0.010051</td>\n",
       "    </tr>\n",
       "    <tr>\n",
       "      <th>Is_Spouse</th>\n",
       "      <td>-0.010145</td>\n",
       "      <td>-0.052434</td>\n",
       "      <td>-0.006020</td>\n",
       "      <td>-0.156720</td>\n",
       "      <td>0.878552</td>\n",
       "      <td>0.146518</td>\n",
       "      <td>-0.011669</td>\n",
       "      <td>1.000000</td>\n",
       "      <td>0.058953</td>\n",
       "      <td>0.093979</td>\n",
       "      <td>0.016566</td>\n",
       "      <td>0.510202</td>\n",
       "      <td>0.002365</td>\n",
       "    </tr>\n",
       "    <tr>\n",
       "      <th>Health Indicator</th>\n",
       "      <td>0.000511</td>\n",
       "      <td>-0.021106</td>\n",
       "      <td>0.020428</td>\n",
       "      <td>-0.051306</td>\n",
       "      <td>0.050744</td>\n",
       "      <td>0.013688</td>\n",
       "      <td>0.009263</td>\n",
       "      <td>0.058953</td>\n",
       "      <td>1.000000</td>\n",
       "      <td>0.059871</td>\n",
       "      <td>-0.009191</td>\n",
       "      <td>0.034356</td>\n",
       "      <td>-0.006520</td>\n",
       "    </tr>\n",
       "    <tr>\n",
       "      <th>Holding_Policy_Type</th>\n",
       "      <td>0.004841</td>\n",
       "      <td>-0.019685</td>\n",
       "      <td>0.009845</td>\n",
       "      <td>-0.151601</td>\n",
       "      <td>0.085299</td>\n",
       "      <td>0.135353</td>\n",
       "      <td>0.112106</td>\n",
       "      <td>0.093979</td>\n",
       "      <td>0.059871</td>\n",
       "      <td>1.000000</td>\n",
       "      <td>0.078893</td>\n",
       "      <td>0.115346</td>\n",
       "      <td>0.008874</td>\n",
       "    </tr>\n",
       "    <tr>\n",
       "      <th>Reco_Policy_Cat</th>\n",
       "      <td>-0.008977</td>\n",
       "      <td>-0.093838</td>\n",
       "      <td>-0.064802</td>\n",
       "      <td>-0.023347</td>\n",
       "      <td>0.014522</td>\n",
       "      <td>0.026707</td>\n",
       "      <td>0.023930</td>\n",
       "      <td>0.016566</td>\n",
       "      <td>-0.009191</td>\n",
       "      <td>0.078893</td>\n",
       "      <td>1.000000</td>\n",
       "      <td>0.063324</td>\n",
       "      <td>0.117186</td>\n",
       "    </tr>\n",
       "    <tr>\n",
       "      <th>Reco_Policy_Premium</th>\n",
       "      <td>-0.007925</td>\n",
       "      <td>-0.145134</td>\n",
       "      <td>-0.011561</td>\n",
       "      <td>-0.281957</td>\n",
       "      <td>0.595756</td>\n",
       "      <td>0.749360</td>\n",
       "      <td>0.525896</td>\n",
       "      <td>0.510202</td>\n",
       "      <td>0.034356</td>\n",
       "      <td>0.115346</td>\n",
       "      <td>0.063324</td>\n",
       "      <td>1.000000</td>\n",
       "      <td>0.002648</td>\n",
       "    </tr>\n",
       "    <tr>\n",
       "      <th>Response</th>\n",
       "      <td>0.004300</td>\n",
       "      <td>-0.000827</td>\n",
       "      <td>0.003073</td>\n",
       "      <td>-0.001946</td>\n",
       "      <td>0.008537</td>\n",
       "      <td>-0.004938</td>\n",
       "      <td>-0.010051</td>\n",
       "      <td>0.002365</td>\n",
       "      <td>-0.006520</td>\n",
       "      <td>0.008874</td>\n",
       "      <td>0.117186</td>\n",
       "      <td>0.002648</td>\n",
       "      <td>1.000000</td>\n",
       "    </tr>\n",
       "  </tbody>\n",
       "</table>\n",
       "</div>"
      ],
      "text/plain": [
       "                           ID  City_Code  Region_Code  Accomodation_Type  \\\n",
       "ID                   1.000000  -0.007708    -0.004799           0.004794   \n",
       "City_Code           -0.007708   1.000000     0.069864           0.049116   \n",
       "Region_Code         -0.004799   0.069864     1.000000           0.005441   \n",
       "Accomodation_Type    0.004794   0.049116     0.005441           1.000000   \n",
       "Reco_Insurance_Type -0.010715  -0.054230    -0.011924          -0.158268   \n",
       "Upper_Age           -0.007819  -0.147320    -0.007473          -0.347691   \n",
       "Lower_Age           -0.004889  -0.134509    -0.005174          -0.291862   \n",
       "Is_Spouse           -0.010145  -0.052434    -0.006020          -0.156720   \n",
       "Health Indicator     0.000511  -0.021106     0.020428          -0.051306   \n",
       "Holding_Policy_Type  0.004841  -0.019685     0.009845          -0.151601   \n",
       "Reco_Policy_Cat     -0.008977  -0.093838    -0.064802          -0.023347   \n",
       "Reco_Policy_Premium -0.007925  -0.145134    -0.011561          -0.281957   \n",
       "Response             0.004300  -0.000827     0.003073          -0.001946   \n",
       "\n",
       "                     Reco_Insurance_Type  Upper_Age  Lower_Age  Is_Spouse  \\\n",
       "ID                             -0.010715  -0.007819  -0.004889  -0.010145   \n",
       "City_Code                      -0.054230  -0.147320  -0.134509  -0.052434   \n",
       "Region_Code                    -0.011924  -0.007473  -0.005174  -0.006020   \n",
       "Accomodation_Type              -0.158268  -0.347691  -0.291862  -0.156720   \n",
       "Reco_Insurance_Type             1.000000   0.164261  -0.114269   0.878552   \n",
       "Upper_Age                       0.164261   1.000000   0.896605   0.146518   \n",
       "Lower_Age                      -0.114269   0.896605   1.000000  -0.011669   \n",
       "Is_Spouse                       0.878552   0.146518  -0.011669   1.000000   \n",
       "Health Indicator                0.050744   0.013688   0.009263   0.058953   \n",
       "Holding_Policy_Type             0.085299   0.135353   0.112106   0.093979   \n",
       "Reco_Policy_Cat                 0.014522   0.026707   0.023930   0.016566   \n",
       "Reco_Policy_Premium             0.595756   0.749360   0.525896   0.510202   \n",
       "Response                        0.008537  -0.004938  -0.010051   0.002365   \n",
       "\n",
       "                     Health Indicator  Holding_Policy_Type  Reco_Policy_Cat  \\\n",
       "ID                           0.000511             0.004841        -0.008977   \n",
       "City_Code                   -0.021106            -0.019685        -0.093838   \n",
       "Region_Code                  0.020428             0.009845        -0.064802   \n",
       "Accomodation_Type           -0.051306            -0.151601        -0.023347   \n",
       "Reco_Insurance_Type          0.050744             0.085299         0.014522   \n",
       "Upper_Age                    0.013688             0.135353         0.026707   \n",
       "Lower_Age                    0.009263             0.112106         0.023930   \n",
       "Is_Spouse                    0.058953             0.093979         0.016566   \n",
       "Health Indicator             1.000000             0.059871        -0.009191   \n",
       "Holding_Policy_Type          0.059871             1.000000         0.078893   \n",
       "Reco_Policy_Cat             -0.009191             0.078893         1.000000   \n",
       "Reco_Policy_Premium          0.034356             0.115346         0.063324   \n",
       "Response                    -0.006520             0.008874         0.117186   \n",
       "\n",
       "                     Reco_Policy_Premium  Response  \n",
       "ID                             -0.007925  0.004300  \n",
       "City_Code                      -0.145134 -0.000827  \n",
       "Region_Code                    -0.011561  0.003073  \n",
       "Accomodation_Type              -0.281957 -0.001946  \n",
       "Reco_Insurance_Type             0.595756  0.008537  \n",
       "Upper_Age                       0.749360 -0.004938  \n",
       "Lower_Age                       0.525896 -0.010051  \n",
       "Is_Spouse                       0.510202  0.002365  \n",
       "Health Indicator                0.034356 -0.006520  \n",
       "Holding_Policy_Type             0.115346  0.008874  \n",
       "Reco_Policy_Cat                 0.063324  0.117186  \n",
       "Reco_Policy_Premium             1.000000  0.002648  \n",
       "Response                        0.002648  1.000000  "
      ]
     },
     "execution_count": 28,
     "metadata": {},
     "output_type": "execute_result"
    }
   ],
   "source": [
    "df.corr()"
   ]
  },
  {
   "cell_type": "markdown",
   "metadata": {},
   "source": [
    "Model Building"
   ]
  },
  {
   "cell_type": "markdown",
   "metadata": {},
   "source": [
    "Logistic Regression Model"
   ]
  },
  {
   "cell_type": "code",
   "execution_count": 29,
   "metadata": {},
   "outputs": [],
   "source": [
    "from sklearn.model_selection import train_test_split\n",
    "from sklearn.model_selection import cross_val_score\n",
    "from sklearn.linear_model import LogisticRegression\n",
    "from sklearn.metrics import classification_report\n",
    "from sklearn.metrics import confusion_matrix\n",
    "from sklearn.metrics import f1_score\n",
    "np.random.seed(42)"
   ]
  },
  {
   "cell_type": "code",
   "execution_count": 30,
   "metadata": {},
   "outputs": [],
   "source": [
    "import warnings\n",
    "warnings.filterwarnings(\"ignore\")"
   ]
  },
  {
   "cell_type": "code",
   "execution_count": 31,
   "metadata": {},
   "outputs": [
    {
     "data": {
      "text/html": [
       "<div>\n",
       "<style scoped>\n",
       "    .dataframe tbody tr th:only-of-type {\n",
       "        vertical-align: middle;\n",
       "    }\n",
       "\n",
       "    .dataframe tbody tr th {\n",
       "        vertical-align: top;\n",
       "    }\n",
       "\n",
       "    .dataframe thead th {\n",
       "        text-align: right;\n",
       "    }\n",
       "</style>\n",
       "<table border=\"1\" class=\"dataframe\">\n",
       "  <thead>\n",
       "    <tr style=\"text-align: right;\">\n",
       "      <th></th>\n",
       "      <th>ID</th>\n",
       "      <th>City_Code</th>\n",
       "      <th>Region_Code</th>\n",
       "      <th>Accomodation_Type</th>\n",
       "      <th>Reco_Insurance_Type</th>\n",
       "      <th>Upper_Age</th>\n",
       "      <th>Lower_Age</th>\n",
       "      <th>Is_Spouse</th>\n",
       "      <th>Health Indicator</th>\n",
       "      <th>Holding_Policy_Duration</th>\n",
       "      <th>Holding_Policy_Type</th>\n",
       "      <th>Reco_Policy_Cat</th>\n",
       "      <th>Reco_Policy_Premium</th>\n",
       "    </tr>\n",
       "  </thead>\n",
       "  <tbody>\n",
       "    <tr>\n",
       "      <th>0</th>\n",
       "      <td>1</td>\n",
       "      <td>22</td>\n",
       "      <td>3213</td>\n",
       "      <td>1</td>\n",
       "      <td>0</td>\n",
       "      <td>36</td>\n",
       "      <td>36</td>\n",
       "      <td>0</td>\n",
       "      <td>0</td>\n",
       "      <td>15</td>\n",
       "      <td>3.0</td>\n",
       "      <td>22</td>\n",
       "      <td>11628.0</td>\n",
       "    </tr>\n",
       "    <tr>\n",
       "      <th>3</th>\n",
       "      <td>4</td>\n",
       "      <td>16</td>\n",
       "      <td>4378</td>\n",
       "      <td>0</td>\n",
       "      <td>1</td>\n",
       "      <td>52</td>\n",
       "      <td>48</td>\n",
       "      <td>0</td>\n",
       "      <td>0</td>\n",
       "      <td>15</td>\n",
       "      <td>3.0</td>\n",
       "      <td>19</td>\n",
       "      <td>17780.0</td>\n",
       "    </tr>\n",
       "    <tr>\n",
       "      <th>4</th>\n",
       "      <td>5</td>\n",
       "      <td>34</td>\n",
       "      <td>2190</td>\n",
       "      <td>1</td>\n",
       "      <td>0</td>\n",
       "      <td>44</td>\n",
       "      <td>44</td>\n",
       "      <td>0</td>\n",
       "      <td>1</td>\n",
       "      <td>3</td>\n",
       "      <td>1.0</td>\n",
       "      <td>16</td>\n",
       "      <td>10404.0</td>\n",
       "    </tr>\n",
       "    <tr>\n",
       "      <th>5</th>\n",
       "      <td>6</td>\n",
       "      <td>35</td>\n",
       "      <td>1785</td>\n",
       "      <td>1</td>\n",
       "      <td>0</td>\n",
       "      <td>52</td>\n",
       "      <td>52</td>\n",
       "      <td>0</td>\n",
       "      <td>1</td>\n",
       "      <td>5</td>\n",
       "      <td>1.0</td>\n",
       "      <td>22</td>\n",
       "      <td>15264.0</td>\n",
       "    </tr>\n",
       "    <tr>\n",
       "      <th>7</th>\n",
       "      <td>8</td>\n",
       "      <td>0</td>\n",
       "      <td>3175</td>\n",
       "      <td>0</td>\n",
       "      <td>1</td>\n",
       "      <td>75</td>\n",
       "      <td>73</td>\n",
       "      <td>1</td>\n",
       "      <td>3</td>\n",
       "      <td>9</td>\n",
       "      <td>4.0</td>\n",
       "      <td>17</td>\n",
       "      <td>29344.0</td>\n",
       "    </tr>\n",
       "  </tbody>\n",
       "</table>\n",
       "</div>"
      ],
      "text/plain": [
       "   ID  City_Code  Region_Code  Accomodation_Type  Reco_Insurance_Type  \\\n",
       "0   1         22         3213                  1                    0   \n",
       "3   4         16         4378                  0                    1   \n",
       "4   5         34         2190                  1                    0   \n",
       "5   6         35         1785                  1                    0   \n",
       "7   8          0         3175                  0                    1   \n",
       "\n",
       "   Upper_Age  Lower_Age  Is_Spouse  Health Indicator Holding_Policy_Duration  \\\n",
       "0         36         36          0                 0                      15   \n",
       "3         52         48          0                 0                      15   \n",
       "4         44         44          0                 1                       3   \n",
       "5         52         52          0                 1                       5   \n",
       "7         75         73          1                 3                       9   \n",
       "\n",
       "   Holding_Policy_Type  Reco_Policy_Cat  Reco_Policy_Premium  \n",
       "0                  3.0               22              11628.0  \n",
       "3                  3.0               19              17780.0  \n",
       "4                  1.0               16              10404.0  \n",
       "5                  1.0               22              15264.0  \n",
       "7                  4.0               17              29344.0  "
      ]
     },
     "execution_count": 31,
     "metadata": {},
     "output_type": "execute_result"
    }
   ],
   "source": [
    "X = df.drop(\"Response\", axis=1)\n",
    "X.head()"
   ]
  },
  {
   "cell_type": "code",
   "execution_count": 32,
   "metadata": {},
   "outputs": [
    {
     "data": {
      "text/html": [
       "<div>\n",
       "<style scoped>\n",
       "    .dataframe tbody tr th:only-of-type {\n",
       "        vertical-align: middle;\n",
       "    }\n",
       "\n",
       "    .dataframe tbody tr th {\n",
       "        vertical-align: top;\n",
       "    }\n",
       "\n",
       "    .dataframe thead th {\n",
       "        text-align: right;\n",
       "    }\n",
       "</style>\n",
       "<table border=\"1\" class=\"dataframe\">\n",
       "  <thead>\n",
       "    <tr style=\"text-align: right;\">\n",
       "      <th></th>\n",
       "      <th>Response</th>\n",
       "    </tr>\n",
       "  </thead>\n",
       "  <tbody>\n",
       "    <tr>\n",
       "      <th>0</th>\n",
       "      <td>0.0</td>\n",
       "    </tr>\n",
       "    <tr>\n",
       "      <th>3</th>\n",
       "      <td>0.0</td>\n",
       "    </tr>\n",
       "    <tr>\n",
       "      <th>4</th>\n",
       "      <td>0.0</td>\n",
       "    </tr>\n",
       "    <tr>\n",
       "      <th>5</th>\n",
       "      <td>1.0</td>\n",
       "    </tr>\n",
       "    <tr>\n",
       "      <th>7</th>\n",
       "      <td>1.0</td>\n",
       "    </tr>\n",
       "  </tbody>\n",
       "</table>\n",
       "</div>"
      ],
      "text/plain": [
       "   Response\n",
       "0       0.0\n",
       "3       0.0\n",
       "4       0.0\n",
       "5       1.0\n",
       "7       1.0"
      ]
     },
     "execution_count": 32,
     "metadata": {},
     "output_type": "execute_result"
    }
   ],
   "source": [
    "y= df[['Response']]\n",
    "y.head()"
   ]
  },
  {
   "cell_type": "code",
   "execution_count": 33,
   "metadata": {},
   "outputs": [],
   "source": [
    "X_train,X_test,y_train,y_test = train_test_split(X,y,test_size = 0.4,random_state=42)"
   ]
  },
  {
   "cell_type": "code",
   "execution_count": 34,
   "metadata": {},
   "outputs": [],
   "source": [
    "lr = LogisticRegression()"
   ]
  },
  {
   "cell_type": "code",
   "execution_count": 35,
   "metadata": {},
   "outputs": [
    {
     "data": {
      "text/plain": [
       "LogisticRegression()"
      ]
     },
     "execution_count": 35,
     "metadata": {},
     "output_type": "execute_result"
    }
   ],
   "source": [
    "lr.fit(X_train,y_train)"
   ]
  },
  {
   "cell_type": "code",
   "execution_count": 36,
   "metadata": {},
   "outputs": [
    {
     "data": {
      "text/plain": [
       "0.7623867626151601"
      ]
     },
     "execution_count": 36,
     "metadata": {},
     "output_type": "execute_result"
    }
   ],
   "source": [
    "cv_score= cross_val_score(lr,X_train,y_train, cv=5)\n",
    "np.mean(cv_score)"
   ]
  },
  {
   "cell_type": "code",
   "execution_count": 38,
   "metadata": {},
   "outputs": [],
   "source": [
    "y_pred = lr.predict(X_test)"
   ]
  },
  {
   "cell_type": "code",
   "execution_count": 39,
   "metadata": {},
   "outputs": [
    {
     "name": "stdout",
     "output_type": "stream",
     "text": [
      "              precision    recall  f1-score   support\n",
      "\n",
      "         0.0       0.75      1.00      0.86      7077\n",
      "         1.0       0.00      0.00      0.00      2343\n",
      "\n",
      "    accuracy                           0.75      9420\n",
      "   macro avg       0.38      0.50      0.43      9420\n",
      "weighted avg       0.56      0.75      0.64      9420\n",
      "\n"
     ]
    }
   ],
   "source": [
    "print(classification_report(y_test, y_pred))"
   ]
  },
  {
   "cell_type": "code",
   "execution_count": 40,
   "metadata": {},
   "outputs": [
    {
     "data": {
      "text/plain": [
       "array([[7077, 2343],\n",
       "       [   0,    0]], dtype=int64)"
      ]
     },
     "execution_count": 40,
     "metadata": {},
     "output_type": "execute_result"
    }
   ],
   "source": [
    "confusion_matrix(y_pred,y_test)"
   ]
  },
  {
   "cell_type": "code",
   "execution_count": 42,
   "metadata": {},
   "outputs": [],
   "source": [
    "from sklearn.ensemble import RandomForestClassifier"
   ]
  },
  {
   "cell_type": "code",
   "execution_count": 43,
   "metadata": {},
   "outputs": [],
   "source": [
    "rfc = RandomForestClassifier(max_depth=5, random_state=42,max_leaf_nodes=50)"
   ]
  },
  {
   "cell_type": "code",
   "execution_count": 45,
   "metadata": {},
   "outputs": [
    {
     "data": {
      "text/plain": [
       "RandomForestClassifier(max_depth=5, max_leaf_nodes=50, random_state=42)"
      ]
     },
     "execution_count": 45,
     "metadata": {},
     "output_type": "execute_result"
    }
   ],
   "source": [
    "rfc.fit(X_train,y_train)"
   ]
  },
  {
   "cell_type": "code",
   "execution_count": 48,
   "metadata": {},
   "outputs": [
    {
     "data": {
      "text/plain": [
       "0.7623867626151601"
      ]
     },
     "execution_count": 48,
     "metadata": {},
     "output_type": "execute_result"
    }
   ],
   "source": [
    "cv1_score= cross_val_score(rfc,X_train,y_train, cv=5)\n",
    "np.mean(cv1_score)"
   ]
  },
  {
   "cell_type": "code",
   "execution_count": 49,
   "metadata": {},
   "outputs": [],
   "source": [
    "y_pred1 = rfc.predict(X_test)"
   ]
  },
  {
   "cell_type": "code",
   "execution_count": 50,
   "metadata": {},
   "outputs": [
    {
     "name": "stdout",
     "output_type": "stream",
     "text": [
      "              precision    recall  f1-score   support\n",
      "\n",
      "         0.0       0.75      1.00      0.86      7077\n",
      "         1.0       0.00      0.00      0.00      2343\n",
      "\n",
      "    accuracy                           0.75      9420\n",
      "   macro avg       0.38      0.50      0.43      9420\n",
      "weighted avg       0.56      0.75      0.64      9420\n",
      "\n"
     ]
    }
   ],
   "source": [
    "print(classification_report(y_test, y_pred1))"
   ]
  },
  {
   "cell_type": "code",
   "execution_count": 52,
   "metadata": {},
   "outputs": [
    {
     "data": {
      "text/plain": [
       "array([[7077,    0],\n",
       "       [2343,    0]], dtype=int64)"
      ]
     },
     "execution_count": 52,
     "metadata": {},
     "output_type": "execute_result"
    }
   ],
   "source": [
    "confusion_matrix(y_test,y_pred1)"
   ]
  },
  {
   "cell_type": "code",
   "execution_count": 53,
   "metadata": {},
   "outputs": [],
   "source": [
    "from sklearn.metrics import roc_auc_score"
   ]
  },
  {
   "cell_type": "code",
   "execution_count": 54,
   "metadata": {},
   "outputs": [
    {
     "data": {
      "text/plain": [
       "0.5"
      ]
     },
     "execution_count": 54,
     "metadata": {},
     "output_type": "execute_result"
    }
   ],
   "source": [
    "roc_auc_score(y_test,y_pred1)"
   ]
  }
 ],
 "metadata": {
  "kernelspec": {
   "display_name": "Python 3",
   "language": "python",
   "name": "python3"
  },
  "language_info": {
   "codemirror_mode": {
    "name": "ipython",
    "version": 3
   },
   "file_extension": ".py",
   "mimetype": "text/x-python",
   "name": "python",
   "nbconvert_exporter": "python",
   "pygments_lexer": "ipython3",
   "version": "3.8.3"
  }
 },
 "nbformat": 4,
 "nbformat_minor": 4
}
